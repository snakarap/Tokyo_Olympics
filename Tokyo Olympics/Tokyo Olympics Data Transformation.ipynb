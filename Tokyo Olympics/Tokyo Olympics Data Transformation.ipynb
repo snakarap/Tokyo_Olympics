{
 "cells": [
  {
   "cell_type": "code",
   "execution_count": 0,
   "metadata": {
    "application/vnd.databricks.v1+cell": {
     "cellMetadata": {
      "byteLimit": 2048000,
      "rowLimit": 10000
     },
     "inputWidgets": {},
     "nuid": "2ab3be67-ca94-4d83-bd54-2a75202b5f6d",
     "showTitle": false,
     "title": ""
    }
   },
   "outputs": [],
   "source": [
    "import pyspark.sql.functions as sf\n",
    "from pyspark.sql.functions import *\n",
    "from pyspark.sql import Window\n",
    "from pyspark.sql.types import IntegerType, DoubleType, BooleanType, DateType\n",
    "import pandas as np\n",
    "import matplotlib.pyplot as plt\n",
    "import seaborn as sns"
   ]
  },
  {
   "cell_type": "code",
   "execution_count": 0,
   "metadata": {
    "application/vnd.databricks.v1+cell": {
     "cellMetadata": {
      "byteLimit": 2048000,
      "rowLimit": 10000
     },
     "inputWidgets": {},
     "nuid": "b2ccc75a-da2f-48e7-9f00-9b87beee8dd8",
     "showTitle": false,
     "title": ""
    }
   },
   "outputs": [
    {
     "output_type": "display_data",
     "data": {
      "text/html": [
       "<style scoped>\n",
       "  .table-result-container {\n",
       "    max-height: 300px;\n",
       "    overflow: auto;\n",
       "  }\n",
       "  table, th, td {\n",
       "    border: 1px solid black;\n",
       "    border-collapse: collapse;\n",
       "  }\n",
       "  th, td {\n",
       "    padding: 5px;\n",
       "  }\n",
       "  th {\n",
       "    text-align: left;\n",
       "  }\n",
       "</style><div class='table-result-container'><table class='table-result'><thead style='background-color: white'><tr><th>path</th><th>name</th><th>size</th><th>modificationTime</th></tr></thead><tbody><tr><td>dbfs:/mnt/tokyoolymic/raw-data/</td><td>raw-data/</td><td>0</td><td>1694666001000</td></tr><tr><td>dbfs:/mnt/tokyoolymic/transformed-data/</td><td>transformed-data/</td><td>0</td><td>1694666008000</td></tr></tbody></table></div>"
      ]
     },
     "metadata": {
      "application/vnd.databricks.v1+output": {
       "addedWidgets": {},
       "aggData": [],
       "aggError": "",
       "aggOverflow": false,
       "aggSchema": [],
       "aggSeriesLimitReached": false,
       "aggType": "",
       "arguments": {},
       "columnCustomDisplayInfos": {},
       "data": [
        [
         "dbfs:/mnt/tokyoolymic/raw-data/",
         "raw-data/",
         0,
         1694666001000
        ],
        [
         "dbfs:/mnt/tokyoolymic/transformed-data/",
         "transformed-data/",
         0,
         1694666008000
        ]
       ],
       "datasetInfos": [],
       "dbfsResultPath": null,
       "isJsonSchema": true,
       "metadata": {
        "isDbfsCommandResult": false
       },
       "overflow": false,
       "plotOptions": {
        "customPlotOptions": {},
        "displayType": "table",
        "pivotAggregation": null,
        "pivotColumns": null,
        "xColumns": null,
        "yColumns": null
       },
       "removedWidgets": [],
       "schema": [
        {
         "metadata": "{}",
         "name": "path",
         "type": "\"string\""
        },
        {
         "metadata": "{}",
         "name": "name",
         "type": "\"string\""
        },
        {
         "metadata": "{}",
         "name": "size",
         "type": "\"long\""
        },
        {
         "metadata": "{}",
         "name": "modificationTime",
         "type": "\"long\""
        }
       ],
       "type": "table"
      }
     },
     "output_type": "display_data"
    }
   ],
   "source": [
    "%fs ls \"/mnt/tokyoolymic/\""
   ]
  },
  {
   "cell_type": "code",
   "execution_count": 0,
   "metadata": {
    "application/vnd.databricks.v1+cell": {
     "cellMetadata": {
      "byteLimit": 2048000,
      "rowLimit": 10000
     },
     "inputWidgets": {},
     "nuid": "d245c4cb-2a8d-436a-acc9-e49fa4f4079b",
     "showTitle": true,
     "title": "Athletes Analysis"
    }
   },
   "outputs": [],
   "source": [
    "df_athletes = (spark.read.format(\"csv\")\n",
    "               .options(header = \"true\", inferSchema =\"true\")\n",
    "               .load(\"/mnt/tokyoolymic/raw-data/athletes.csv\")\n",
    "               )"
   ]
  },
  {
   "cell_type": "code",
   "execution_count": 0,
   "metadata": {
    "application/vnd.databricks.v1+cell": {
     "cellMetadata": {
      "byteLimit": 2048000,
      "rowLimit": 10000
     },
     "inputWidgets": {},
     "nuid": "e94d006d-235b-4c8f-9b03-0bb39098c659",
     "showTitle": true,
     "title": "Athletes Analysis: 1"
    }
   },
   "outputs": [
    {
     "output_type": "display_data",
     "data": {
      "text/html": [
       "<style scoped>\n",
       "  .table-result-container {\n",
       "    max-height: 300px;\n",
       "    overflow: auto;\n",
       "  }\n",
       "  table, th, td {\n",
       "    border: 1px solid black;\n",
       "    border-collapse: collapse;\n",
       "  }\n",
       "  th, td {\n",
       "    padding: 5px;\n",
       "  }\n",
       "  th {\n",
       "    text-align: left;\n",
       "  }\n",
       "</style><div class='table-result-container'><table class='table-result'><thead style='background-color: white'><tr><th>Country</th><th>Number_of_Athletes</th><th>CountryRanking_AthletesCount</th></tr></thead><tbody><tr><td>United States of America</td><td>614</td><td>1</td></tr><tr><td>Japan</td><td>585</td><td>2</td></tr><tr><td>Australia</td><td>470</td><td>3</td></tr><tr><td>Germany</td><td>399</td><td>4</td></tr><tr><td>People's Republic of China</td><td>398</td><td>5</td></tr><tr><td>France</td><td>377</td><td>6</td></tr><tr><td>Canada</td><td>368</td><td>7</td></tr><tr><td>Great Britain</td><td>366</td><td>8</td></tr><tr><td>Italy</td><td>354</td><td>9</td></tr><tr><td>Spain</td><td>324</td><td>10</td></tr><tr><td>ROC</td><td>318</td><td>11</td></tr><tr><td>Brazil</td><td>291</td><td>12</td></tr><tr><td>Netherlands</td><td>272</td><td>13</td></tr><tr><td>Republic of Korea</td><td>222</td><td>14</td></tr><tr><td>New Zealand</td><td>202</td><td>15</td></tr><tr><td>Poland</td><td>195</td><td>16</td></tr><tr><td>Argentina</td><td>180</td><td>17</td></tr><tr><td>South Africa</td><td>171</td><td>18</td></tr><tr><td>Mexico</td><td>155</td><td>19</td></tr><tr><td>Hungary</td><td>154</td><td>20</td></tr><tr><td>Ukraine</td><td>152</td><td>21</td></tr><tr><td>Egypt</td><td>133</td><td>22</td></tr><tr><td>Sweden</td><td>129</td><td>23</td></tr><tr><td>Belgium</td><td>124</td><td>24</td></tr><tr><td>India</td><td>117</td><td>25</td></tr><tr><td>Czech Republic</td><td>117</td><td>25</td></tr><tr><td>Ireland</td><td>116</td><td>27</td></tr><tr><td>Switzerland</td><td>115</td><td>28</td></tr><tr><td>Belarus</td><td>104</td><td>29</td></tr><tr><td>Denmark</td><td>103</td><td>30</td></tr><tr><td>Turkey</td><td>102</td><td>31</td></tr><tr><td>Romania</td><td>99</td><td>32</td></tr><tr><td>Norway</td><td>92</td><td>33</td></tr><tr><td>Kazakhstan</td><td>92</td><td>33</td></tr><tr><td>Israel</td><td>85</td><td>35</td></tr><tr><td>Portugal</td><td>85</td><td>35</td></tr><tr><td>Serbia</td><td>83</td><td>37</td></tr><tr><td>Kenya</td><td>78</td><td>38</td></tr><tr><td>Greece</td><td>75</td><td>39</td></tr><tr><td>Austria</td><td>72</td><td>40</td></tr><tr><td>Cuba</td><td>69</td><td>41</td></tr><tr><td>Chinese Taipei</td><td>67</td><td>42</td></tr><tr><td>Islamic Republic of Iran</td><td>66</td><td>43</td></tr><tr><td>Colombia</td><td>64</td><td>44</td></tr><tr><td>Uzbekistan</td><td>63</td><td>45</td></tr><tr><td>Dominican Republic</td><td>61</td><td>46</td></tr><tr><td>Jamaica</td><td>60</td><td>47</td></tr><tr><td>Nigeria</td><td>59</td><td>48</td></tr><tr><td>Croatia</td><td>57</td><td>49</td></tr><tr><td>Tunisia</td><td>57</td><td>49</td></tr><tr><td>Chile</td><td>56</td><td>51</td></tr><tr><td>Slovenia</td><td>51</td><td>52</td></tr><tr><td>Morocco</td><td>48</td><td>53</td></tr><tr><td>Ecuador</td><td>46</td><td>54</td></tr><tr><td>Finland</td><td>45</td><td>55</td></tr><tr><td>Venezuela</td><td>43</td><td>56</td></tr><tr><td>Mongolia</td><td>43</td><td>56</td></tr><tr><td>Ethiopia</td><td>42</td><td>58</td></tr><tr><td>Algeria</td><td>41</td><td>59</td></tr><tr><td>Azerbaijan</td><td>41</td><td>59</td></tr><tr><td>Bulgaria</td><td>41</td><td>59</td></tr><tr><td>Hong Kong, China</td><td>40</td><td>62</td></tr><tr><td>Thailand</td><td>39</td><td>63</td></tr><tr><td>Slovakia</td><td>38</td><td>64</td></tr><tr><td>Lithuania</td><td>37</td><td>65</td></tr><tr><td>Puerto Rico</td><td>35</td><td>66</td></tr><tr><td>Montenegro</td><td>35</td><td>66</td></tr><tr><td>Georgia</td><td>35</td><td>66</td></tr><tr><td>Peru</td><td>33</td><td>69</td></tr><tr><td>Estonia</td><td>33</td><td>69</td></tr><tr><td>Saudi Arabia</td><td>32</td><td>71</td></tr><tr><td>Trinidad and Tobago</td><td>31</td><td>72</td></tr><tr><td>Bahrain</td><td>30</td><td>73</td></tr><tr><td>Malaysia</td><td>29</td><td>74</td></tr><tr><td>C�te d'Ivoire</td><td>29</td><td>74</td></tr><tr><td>Zambia</td><td>29</td><td>74</td></tr><tr><td>Latvia</td><td>29</td><td>74</td></tr><tr><td>Fiji</td><td>28</td><td>78</td></tr><tr><td>Refugee Olympic Team</td><td>26</td><td>79</td></tr><tr><td>Indonesia</td><td>26</td><td>79</td></tr><tr><td>Honduras</td><td>25</td><td>81</td></tr><tr><td>Uganda</td><td>24</td><td>82</td></tr><tr><td>Singapore</td><td>23</td><td>83</td></tr><tr><td>Guatemala</td><td>22</td><td>84</td></tr><tr><td>Angola</td><td>20</td><td>85</td></tr><tr><td>Republic of Moldova</td><td>19</td><td>86</td></tr><tr><td>Philippines</td><td>18</td><td>87</td></tr><tr><td>Vietnam</td><td>17</td><td>88</td></tr><tr><td>Bahamas</td><td>16</td><td>89</td></tr><tr><td>Armenia</td><td>16</td><td>89</td></tr><tr><td>Kyrgyzstan</td><td>16</td><td>89</td></tr><tr><td>Qatar</td><td>14</td><td>92</td></tr><tr><td>Ghana</td><td>14</td><td>92</td></tr><tr><td>Cyprus</td><td>14</td><td>92</td></tr><tr><td>Eritrea</td><td>13</td><td>95</td></tr><tr><td>Botswana</td><td>13</td><td>95</td></tr><tr><td>Costa Rica</td><td>13</td><td>95</td></tr><tr><td>Jordan</td><td>11</td><td>98</td></tr><tr><td>Uruguay</td><td>11</td><td>98</td></tr><tr><td>Namibia</td><td>11</td><td>98</td></tr><tr><td>Luxembourg</td><td>11</td><td>98</td></tr><tr><td>Cameroon</td><td>11</td><td>98</td></tr><tr><td>Kosovo</td><td>10</td><td>103</td></tr><tr><td>Kuwait</td><td>10</td><td>103</td></tr><tr><td>Pakistan</td><td>10</td><td>103</td></tr><tr><td>Senegal</td><td>9</td><td>106</td></tr><tr><td>Sri Lanka</td><td>9</td><td>106</td></tr><tr><td>Panama</td><td>9</td><td>106</td></tr><tr><td>Paraguay</td><td>8</td><td>109</td></tr><tr><td>Albania</td><td>8</td><td>109</td></tr><tr><td>Nicaragua</td><td>8</td><td>109</td></tr><tr><td>Tajikistan</td><td>8</td><td>109</td></tr><tr><td>Turkmenistan</td><td>8</td><td>109</td></tr><tr><td>Samoa</td><td>8</td><td>109</td></tr><tr><td>North Macedonia</td><td>8</td><td>109</td></tr><tr><td>Mozambique</td><td>8</td><td>109</td></tr><tr><td>Guyana</td><td>7</td><td>117</td></tr><tr><td>Benin</td><td>7</td><td>117</td></tr><tr><td>Niger</td><td>7</td><td>117</td></tr><tr><td>Barbados</td><td>7</td><td>117</td></tr><tr><td>Democratic Republic of the Congo</td><td>7</td><td>117</td></tr><tr><td>Bosnia and Herzegovina</td><td>7</td><td>117</td></tr><tr><td>Papua New Guinea</td><td>7</td><td>117</td></tr><tr><td>Burkina Faso</td><td>7</td><td>117</td></tr><tr><td>Mauritius</td><td>7</td><td>117</td></tr><tr><td>Madagascar</td><td>6</td><td>126</td></tr><tr><td>Malta</td><td>6</td><td>126</td></tr><tr><td>Burundi</td><td>6</td><td>126</td></tr><tr><td>Bangladesh</td><td>6</td><td>126</td></tr><tr><td>Monaco</td><td>6</td><td>126</td></tr><tr><td>Cape Verde</td><td>6</td><td>126</td></tr><tr><td>Grenada</td><td>6</td><td>126</td></tr><tr><td>Cook Islands</td><td>6</td><td>126</td></tr><tr><td>Lebanon</td><td>6</td><td>126</td></tr><tr><td>Antigua and Barbuda</td><td>6</td><td>126</td></tr><tr><td>Haiti</td><td>6</td><td>126</td></tr><tr><td>Syrian Arab Republic</td><td>6</td><td>126</td></tr><tr><td>Tonga</td><td>5</td><td>138</td></tr><tr><td>Malawi</td><td>5</td><td>138</td></tr><tr><td>Afghanistan</td><td>5</td><td>138</td></tr><tr><td>Rwanda</td><td>5</td><td>138</td></tr><tr><td>Sudan</td><td>5</td><td>138</td></tr><tr><td>American Samoa</td><td>5</td><td>138</td></tr><tr><td>Cayman Islands</td><td>5</td><td>138</td></tr><tr><td>Bolivia</td><td>5</td><td>138</td></tr><tr><td>Gabon</td><td>5</td><td>138</td></tr><tr><td>Liechtenstein</td><td>5</td><td>138</td></tr><tr><td>Oman</td><td>5</td><td>138</td></tr><tr><td>Zimbabwe</td><td>5</td><td>138</td></tr><tr><td>Guam</td><td>5</td><td>138</td></tr><tr><td>Saint Lucia</td><td>5</td><td>138</td></tr><tr><td>Guinea</td><td>5</td><td>138</td></tr><tr><td>Seychelles</td><td>5</td><td>138</td></tr><tr><td>Nepal</td><td>5</td><td>138</td></tr><tr><td>El Salvador</td><td>5</td><td>138</td></tr><tr><td>Djibouti</td><td>4</td><td>156</td></tr><tr><td>Iraq</td><td>4</td><td>156</td></tr><tr><td>Maldives</td><td>4</td><td>156</td></tr><tr><td>Togo</td><td>4</td><td>156</td></tr><tr><td>San Marino</td><td>4</td><td>156</td></tr><tr><td>Sierra Leone</td><td>4</td><td>156</td></tr><tr><td>Iceland</td><td>4</td><td>156</td></tr><tr><td>Palestine</td><td>4</td><td>156</td></tr><tr><td>Libya</td><td>4</td><td>156</td></tr><tr><td>Eswatini</td><td>4</td><td>156</td></tr><tr><td>United Arab Emirates</td><td>4</td><td>156</td></tr><tr><td>Lao People's Democratic Republic</td><td>4</td><td>156</td></tr><tr><td>Guinea-Bissau</td><td>4</td><td>156</td></tr><tr><td>Virgin Islands, US</td><td>4</td><td>156</td></tr><tr><td>Mali</td><td>4</td><td>156</td></tr><tr><td>Chad</td><td>3</td><td>171</td></tr><tr><td>Yemen</td><td>3</td><td>171</td></tr><tr><td>Kiribati</td><td>3</td><td>171</td></tr><tr><td>Comoros</td><td>3</td><td>171</td></tr><tr><td>Cambodia</td><td>3</td><td>171</td></tr><tr><td>Palau</td><td>3</td><td>171</td></tr><tr><td>Equatorial Guinea</td><td>3</td><td>171</td></tr><tr><td>Sao Tome and Principe</td><td>3</td><td>171</td></tr><tr><td>Suriname</td><td>3</td><td>171</td></tr><tr><td>Congo</td><td>3</td><td>171</td></tr><tr><td>Bhutan</td><td>3</td><td>171</td></tr><tr><td>Virgin Islands, British</td><td>3</td><td>171</td></tr><tr><td>Aruba</td><td>3</td><td>171</td></tr><tr><td>Federated States of Micronesia</td><td>3</td><td>171</td></tr><tr><td>Liberia</td><td>3</td><td>171</td></tr><tr><td>Belize</td><td>3</td><td>171</td></tr><tr><td>Gambia</td><td>3</td><td>171</td></tr><tr><td>Solomon Islands</td><td>3</td><td>171</td></tr><tr><td>Democratic Republic of Timor-Leste</td><td>3</td><td>171</td></tr><tr><td>Dominica</td><td>2</td><td>190</td></tr><tr><td>Lesotho</td><td>2</td><td>190</td></tr><tr><td>Myanmar</td><td>2</td><td>190</td></tr><tr><td>Brunei Darussalam</td><td>2</td><td>190</td></tr><tr><td>Tuvalu</td><td>2</td><td>190</td></tr><tr><td>Marshall Islands</td><td>2</td><td>190</td></tr><tr><td>Somalia</td><td>2</td><td>190</td></tr><tr><td>United Republic of Tanzania</td><td>2</td><td>190</td></tr><tr><td>Andorra</td><td>2</td><td>190</td></tr><tr><td>St Vincent and the Grenadines</td><td>2</td><td>190</td></tr><tr><td>Mauritania</td><td>2</td><td>190</td></tr><tr><td>Central African Republic</td><td>2</td><td>190</td></tr><tr><td>Nauru</td><td>2</td><td>190</td></tr><tr><td>Saint Kitts and Nevis</td><td>2</td><td>190</td></tr><tr><td>South Sudan</td><td>2</td><td>190</td></tr><tr><td>Bermuda</td><td>2</td><td>190</td></tr><tr><td>Vanuatu</td><td>2</td><td>190</td></tr></tbody></table></div>"
      ]
     },
     "metadata": {
      "application/vnd.databricks.v1+output": {
       "addedWidgets": {},
       "aggData": [],
       "aggError": "",
       "aggOverflow": false,
       "aggSchema": [],
       "aggSeriesLimitReached": false,
       "aggType": "",
       "arguments": {},
       "columnCustomDisplayInfos": {},
       "data": [
        [
         "United States of America",
         614,
         1
        ],
        [
         "Japan",
         585,
         2
        ],
        [
         "Australia",
         470,
         3
        ],
        [
         "Germany",
         399,
         4
        ],
        [
         "People's Republic of China",
         398,
         5
        ],
        [
         "France",
         377,
         6
        ],
        [
         "Canada",
         368,
         7
        ],
        [
         "Great Britain",
         366,
         8
        ],
        [
         "Italy",
         354,
         9
        ],
        [
         "Spain",
         324,
         10
        ],
        [
         "ROC",
         318,
         11
        ],
        [
         "Brazil",
         291,
         12
        ],
        [
         "Netherlands",
         272,
         13
        ],
        [
         "Republic of Korea",
         222,
         14
        ],
        [
         "New Zealand",
         202,
         15
        ],
        [
         "Poland",
         195,
         16
        ],
        [
         "Argentina",
         180,
         17
        ],
        [
         "South Africa",
         171,
         18
        ],
        [
         "Mexico",
         155,
         19
        ],
        [
         "Hungary",
         154,
         20
        ],
        [
         "Ukraine",
         152,
         21
        ],
        [
         "Egypt",
         133,
         22
        ],
        [
         "Sweden",
         129,
         23
        ],
        [
         "Belgium",
         124,
         24
        ],
        [
         "India",
         117,
         25
        ],
        [
         "Czech Republic",
         117,
         25
        ],
        [
         "Ireland",
         116,
         27
        ],
        [
         "Switzerland",
         115,
         28
        ],
        [
         "Belarus",
         104,
         29
        ],
        [
         "Denmark",
         103,
         30
        ],
        [
         "Turkey",
         102,
         31
        ],
        [
         "Romania",
         99,
         32
        ],
        [
         "Norway",
         92,
         33
        ],
        [
         "Kazakhstan",
         92,
         33
        ],
        [
         "Israel",
         85,
         35
        ],
        [
         "Portugal",
         85,
         35
        ],
        [
         "Serbia",
         83,
         37
        ],
        [
         "Kenya",
         78,
         38
        ],
        [
         "Greece",
         75,
         39
        ],
        [
         "Austria",
         72,
         40
        ],
        [
         "Cuba",
         69,
         41
        ],
        [
         "Chinese Taipei",
         67,
         42
        ],
        [
         "Islamic Republic of Iran",
         66,
         43
        ],
        [
         "Colombia",
         64,
         44
        ],
        [
         "Uzbekistan",
         63,
         45
        ],
        [
         "Dominican Republic",
         61,
         46
        ],
        [
         "Jamaica",
         60,
         47
        ],
        [
         "Nigeria",
         59,
         48
        ],
        [
         "Croatia",
         57,
         49
        ],
        [
         "Tunisia",
         57,
         49
        ],
        [
         "Chile",
         56,
         51
        ],
        [
         "Slovenia",
         51,
         52
        ],
        [
         "Morocco",
         48,
         53
        ],
        [
         "Ecuador",
         46,
         54
        ],
        [
         "Finland",
         45,
         55
        ],
        [
         "Venezuela",
         43,
         56
        ],
        [
         "Mongolia",
         43,
         56
        ],
        [
         "Ethiopia",
         42,
         58
        ],
        [
         "Algeria",
         41,
         59
        ],
        [
         "Azerbaijan",
         41,
         59
        ],
        [
         "Bulgaria",
         41,
         59
        ],
        [
         "Hong Kong, China",
         40,
         62
        ],
        [
         "Thailand",
         39,
         63
        ],
        [
         "Slovakia",
         38,
         64
        ],
        [
         "Lithuania",
         37,
         65
        ],
        [
         "Puerto Rico",
         35,
         66
        ],
        [
         "Montenegro",
         35,
         66
        ],
        [
         "Georgia",
         35,
         66
        ],
        [
         "Peru",
         33,
         69
        ],
        [
         "Estonia",
         33,
         69
        ],
        [
         "Saudi Arabia",
         32,
         71
        ],
        [
         "Trinidad and Tobago",
         31,
         72
        ],
        [
         "Bahrain",
         30,
         73
        ],
        [
         "Malaysia",
         29,
         74
        ],
        [
         "C�te d'Ivoire",
         29,
         74
        ],
        [
         "Zambia",
         29,
         74
        ],
        [
         "Latvia",
         29,
         74
        ],
        [
         "Fiji",
         28,
         78
        ],
        [
         "Refugee Olympic Team",
         26,
         79
        ],
        [
         "Indonesia",
         26,
         79
        ],
        [
         "Honduras",
         25,
         81
        ],
        [
         "Uganda",
         24,
         82
        ],
        [
         "Singapore",
         23,
         83
        ],
        [
         "Guatemala",
         22,
         84
        ],
        [
         "Angola",
         20,
         85
        ],
        [
         "Republic of Moldova",
         19,
         86
        ],
        [
         "Philippines",
         18,
         87
        ],
        [
         "Vietnam",
         17,
         88
        ],
        [
         "Bahamas",
         16,
         89
        ],
        [
         "Armenia",
         16,
         89
        ],
        [
         "Kyrgyzstan",
         16,
         89
        ],
        [
         "Qatar",
         14,
         92
        ],
        [
         "Ghana",
         14,
         92
        ],
        [
         "Cyprus",
         14,
         92
        ],
        [
         "Eritrea",
         13,
         95
        ],
        [
         "Botswana",
         13,
         95
        ],
        [
         "Costa Rica",
         13,
         95
        ],
        [
         "Jordan",
         11,
         98
        ],
        [
         "Uruguay",
         11,
         98
        ],
        [
         "Namibia",
         11,
         98
        ],
        [
         "Luxembourg",
         11,
         98
        ],
        [
         "Cameroon",
         11,
         98
        ],
        [
         "Kosovo",
         10,
         103
        ],
        [
         "Kuwait",
         10,
         103
        ],
        [
         "Pakistan",
         10,
         103
        ],
        [
         "Senegal",
         9,
         106
        ],
        [
         "Sri Lanka",
         9,
         106
        ],
        [
         "Panama",
         9,
         106
        ],
        [
         "Paraguay",
         8,
         109
        ],
        [
         "Albania",
         8,
         109
        ],
        [
         "Nicaragua",
         8,
         109
        ],
        [
         "Tajikistan",
         8,
         109
        ],
        [
         "Turkmenistan",
         8,
         109
        ],
        [
         "Samoa",
         8,
         109
        ],
        [
         "North Macedonia",
         8,
         109
        ],
        [
         "Mozambique",
         8,
         109
        ],
        [
         "Guyana",
         7,
         117
        ],
        [
         "Benin",
         7,
         117
        ],
        [
         "Niger",
         7,
         117
        ],
        [
         "Barbados",
         7,
         117
        ],
        [
         "Democratic Republic of the Congo",
         7,
         117
        ],
        [
         "Bosnia and Herzegovina",
         7,
         117
        ],
        [
         "Papua New Guinea",
         7,
         117
        ],
        [
         "Burkina Faso",
         7,
         117
        ],
        [
         "Mauritius",
         7,
         117
        ],
        [
         "Madagascar",
         6,
         126
        ],
        [
         "Malta",
         6,
         126
        ],
        [
         "Burundi",
         6,
         126
        ],
        [
         "Bangladesh",
         6,
         126
        ],
        [
         "Monaco",
         6,
         126
        ],
        [
         "Cape Verde",
         6,
         126
        ],
        [
         "Grenada",
         6,
         126
        ],
        [
         "Cook Islands",
         6,
         126
        ],
        [
         "Lebanon",
         6,
         126
        ],
        [
         "Antigua and Barbuda",
         6,
         126
        ],
        [
         "Haiti",
         6,
         126
        ],
        [
         "Syrian Arab Republic",
         6,
         126
        ],
        [
         "Tonga",
         5,
         138
        ],
        [
         "Malawi",
         5,
         138
        ],
        [
         "Afghanistan",
         5,
         138
        ],
        [
         "Rwanda",
         5,
         138
        ],
        [
         "Sudan",
         5,
         138
        ],
        [
         "American Samoa",
         5,
         138
        ],
        [
         "Cayman Islands",
         5,
         138
        ],
        [
         "Bolivia",
         5,
         138
        ],
        [
         "Gabon",
         5,
         138
        ],
        [
         "Liechtenstein",
         5,
         138
        ],
        [
         "Oman",
         5,
         138
        ],
        [
         "Zimbabwe",
         5,
         138
        ],
        [
         "Guam",
         5,
         138
        ],
        [
         "Saint Lucia",
         5,
         138
        ],
        [
         "Guinea",
         5,
         138
        ],
        [
         "Seychelles",
         5,
         138
        ],
        [
         "Nepal",
         5,
         138
        ],
        [
         "El Salvador",
         5,
         138
        ],
        [
         "Djibouti",
         4,
         156
        ],
        [
         "Iraq",
         4,
         156
        ],
        [
         "Maldives",
         4,
         156
        ],
        [
         "Togo",
         4,
         156
        ],
        [
         "San Marino",
         4,
         156
        ],
        [
         "Sierra Leone",
         4,
         156
        ],
        [
         "Iceland",
         4,
         156
        ],
        [
         "Palestine",
         4,
         156
        ],
        [
         "Libya",
         4,
         156
        ],
        [
         "Eswatini",
         4,
         156
        ],
        [
         "United Arab Emirates",
         4,
         156
        ],
        [
         "Lao People's Democratic Republic",
         4,
         156
        ],
        [
         "Guinea-Bissau",
         4,
         156
        ],
        [
         "Virgin Islands, US",
         4,
         156
        ],
        [
         "Mali",
         4,
         156
        ],
        [
         "Chad",
         3,
         171
        ],
        [
         "Yemen",
         3,
         171
        ],
        [
         "Kiribati",
         3,
         171
        ],
        [
         "Comoros",
         3,
         171
        ],
        [
         "Cambodia",
         3,
         171
        ],
        [
         "Palau",
         3,
         171
        ],
        [
         "Equatorial Guinea",
         3,
         171
        ],
        [
         "Sao Tome and Principe",
         3,
         171
        ],
        [
         "Suriname",
         3,
         171
        ],
        [
         "Congo",
         3,
         171
        ],
        [
         "Bhutan",
         3,
         171
        ],
        [
         "Virgin Islands, British",
         3,
         171
        ],
        [
         "Aruba",
         3,
         171
        ],
        [
         "Federated States of Micronesia",
         3,
         171
        ],
        [
         "Liberia",
         3,
         171
        ],
        [
         "Belize",
         3,
         171
        ],
        [
         "Gambia",
         3,
         171
        ],
        [
         "Solomon Islands",
         3,
         171
        ],
        [
         "Democratic Republic of Timor-Leste",
         3,
         171
        ],
        [
         "Dominica",
         2,
         190
        ],
        [
         "Lesotho",
         2,
         190
        ],
        [
         "Myanmar",
         2,
         190
        ],
        [
         "Brunei Darussalam",
         2,
         190
        ],
        [
         "Tuvalu",
         2,
         190
        ],
        [
         "Marshall Islands",
         2,
         190
        ],
        [
         "Somalia",
         2,
         190
        ],
        [
         "United Republic of Tanzania",
         2,
         190
        ],
        [
         "Andorra",
         2,
         190
        ],
        [
         "St Vincent and the Grenadines",
         2,
         190
        ],
        [
         "Mauritania",
         2,
         190
        ],
        [
         "Central African Republic",
         2,
         190
        ],
        [
         "Nauru",
         2,
         190
        ],
        [
         "Saint Kitts and Nevis",
         2,
         190
        ],
        [
         "South Sudan",
         2,
         190
        ],
        [
         "Bermuda",
         2,
         190
        ],
        [
         "Vanuatu",
         2,
         190
        ]
       ],
       "datasetInfos": [],
       "dbfsResultPath": null,
       "isJsonSchema": true,
       "metadata": {},
       "overflow": false,
       "plotOptions": {
        "customPlotOptions": {},
        "displayType": "table",
        "pivotAggregation": null,
        "pivotColumns": null,
        "xColumns": null,
        "yColumns": null
       },
       "removedWidgets": [],
       "schema": [
        {
         "metadata": "{}",
         "name": "Country",
         "type": "\"string\""
        },
        {
         "metadata": "{}",
         "name": "Number_of_Athletes",
         "type": "\"long\""
        },
        {
         "metadata": "{}",
         "name": "CountryRanking_AthletesCount",
         "type": "\"integer\""
        }
       ],
       "type": "table"
      }
     },
     "output_type": "display_data"
    }
   ],
   "source": [
    "# Identifying countries with more Athletes and ranking countries based on Athletes Count\n",
    "df_athletes_countries = (df_athletes\n",
    "                         .dropDuplicates()\n",
    "                         .groupBy(\"Country\")\n",
    "                         .agg(sf.countDistinct(\"PersonName\").alias(\"Number_of_Athletes\"))\n",
    "                         .withColumn(\"CountryRanking_AthletesCount\", sf.rank().over(Window.orderBy(sf.col(\"Number_of_Athletes\").desc())))\n",
    "                         )\n",
    "\n",
    "display(df_athletes_countries)\n",
    "\n",
    "# Athletes from \"United States of America\" participated more in Tokyo Olympics"
   ]
  },
  {
   "cell_type": "code",
   "execution_count": 0,
   "metadata": {
    "application/vnd.databricks.v1+cell": {
     "cellMetadata": {
      "byteLimit": 2048000,
      "rowLimit": 10000
     },
     "inputWidgets": {},
     "nuid": "f2abb142-6fe8-4bf3-aadd-f90622adca55",
     "showTitle": false,
     "title": ""
    }
   },
   "outputs": [
    {
     "output_type": "display_data",
     "data": {
      "image/png": "[encoded data removed]"
     },
     "metadata": {
      "application/vnd.databricks.v1+output": {
       "addedWidgets": {},
       "arguments": {},
       "data": "data:image/png;base64,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\n",
       "datasetInfos": [],
       "metadata": {},
       "removedWidgets": [],
       "type": "image"
      }
     },
     "output_type": "display_data"
    }
   ],
   "source": [
    "# Visualization of first 5 countries with more Athletes\n",
    "df_five_country_athletes = (df_athletes_countries\n",
    "                            .where(sf.col(\"CountryRanking_AthletesCount\").isin(1,2,3,4,5)))\n",
    "\n",
    "df_athletes_pd = df_five_country_athletes.toPandas()\n",
    "\n",
    "plt.figure(figsize=(10,6))\n",
    "sns.barplot(x = \"Country\", y = \"Number_of_Athletes\", data = df_athletes_pd)\n",
    "plt.title('Top 5 Countries with the Highest Athlete Participation in Tokyo Olympics')\n",
    "plt.show()"
   ]
  },
  {
   "cell_type": "code",
   "execution_count": 0,
   "metadata": {
    "application/vnd.databricks.v1+cell": {
     "cellMetadata": {
      "byteLimit": 2048000,
      "rowLimit": 10000
     },
     "inputWidgets": {},
     "nuid": "1197cdc5-1a18-460d-b168-f54c0a5dbd69",
     "showTitle": true,
     "title": "Athletes Analysis: 2"
    }
   },
   "outputs": [],
   "source": [
    "#disciplines having highest participation or number of Athletes participating\n",
    "df_athletes_discipline = (df_athletes\n",
    "                          .dropDuplicates()\n",
    "                         .groupBy(\"Discipline\")\n",
    "                         .agg(sf.countDistinct(\"PersonName\").alias(\"Athletes_Participation_Count\"))\n",
    "                         .withColumn(\"DisciplineRanking_AthletesCount\", sf.rank().over(Window.orderBy(sf.col(\"Athletes_Participation_Count\").desc())))\n",
    "                         )\n",
    "# \"Athletics\" discipline has the highest participation rate followed by \"Swimming\" and \"Football\""
   ]
  },
  {
   "cell_type": "code",
   "execution_count": 0,
   "metadata": {
    "application/vnd.databricks.v1+cell": {
     "cellMetadata": {
      "byteLimit": 2048000,
      "rowLimit": 10000
     },
     "inputWidgets": {},
     "nuid": "c3f1e989-921c-49dd-82a1-6bbac2bcc24c",
     "showTitle": false,
     "title": ""
    }
   },
   "outputs": [
    {
     "output_type": "display_data",
     "data": {
      "image/png": "[encoded data removed]"
     },
     "metadata": {
      "application/vnd.databricks.v1+output": {
       "addedWidgets": {},
       "arguments": {},
       "data": "data:image/png;base64,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\n",
       "datasetInfos": [],
       "metadata": {},
       "removedWidgets": [],
       "type": "image"
      }
     },
     "output_type": "display_data"
    }
   ],
   "source": [
    "# Visualization of first 5 disciplies with more Athletes\n",
    "df_five_discipline_athletes = (df_athletes_discipline\n",
    "                               .where(sf.col(\"DisciplineRanking_AthletesCount\").isin(1,2,3,4,5))\n",
    "                               )\n",
    "\n",
    "df_athletes_discipline_pd = df_five_discipline_athletes.toPandas()\n",
    "\n",
    "plt.figure(figsize=(10,6))\n",
    "sns.barplot(x = \"Discipline\", y = \"Athletes_Participation_Count\", data = df_athletes_discipline_pd)\n",
    "plt.title('Top 5 Disciplines with the Highest Athlete Participation in Tokyo Olympics')\n",
    "plt.show()\n",
    "\n",
    "# Most Athletes participated under \"Athletics\" discipline. We can observe that 35% of \"Athletics\" participations are participated in \"Swimming\" discipline."
   ]
  },
  {
   "cell_type": "code",
   "execution_count": 0,
   "metadata": {
    "application/vnd.databricks.v1+cell": {
     "cellMetadata": {
      "byteLimit": 2048000,
      "rowLimit": 10000
     },
     "inputWidgets": {},
     "nuid": "0bc8e8b5-16ec-4e78-8a89-477d63902eac",
     "showTitle": true,
     "title": "Athletes Analysis: 3"
    }
   },
   "outputs": [
    {
     "output_type": "display_data",
     "data": {
      "text/html": [
       "<style scoped>\n",
       "  .table-result-container {\n",
       "    max-height: 300px;\n",
       "    overflow: auto;\n",
       "  }\n",
       "  table, th, td {\n",
       "    border: 1px solid black;\n",
       "    border-collapse: collapse;\n",
       "  }\n",
       "  th, td {\n",
       "    padding: 5px;\n",
       "  }\n",
       "  th {\n",
       "    text-align: left;\n",
       "  }\n",
       "</style><div class='table-result-container'><table class='table-result'><thead style='background-color: white'><tr><th>Country</th><th>Disciplines</th><th>No_of_DifferentDisciplines</th></tr></thead><tbody><tr><td>Afghanistan</td><td>Athletics</td><td>1</td></tr><tr><td>Albania</td><td>Swimming, Weightlifting</td><td>2</td></tr><tr><td>Algeria</td><td>Athletics, Boxing</td><td>2</td></tr><tr><td>American Samoa</td><td>Sailing</td><td>1</td></tr><tr><td>Andorra</td><td>Athletics, Canoe Slalom</td><td>2</td></tr><tr><td>Angola</td><td>Handball</td><td>1</td></tr><tr><td>Antigua and Barbuda</td><td>Athletics, Swimming</td><td>2</td></tr><tr><td>Argentina</td><td>Hockey</td><td>1</td></tr><tr><td>Armenia</td><td>Wrestling</td><td>1</td></tr><tr><td>Aruba</td><td>Swimming</td><td>1</td></tr><tr><td>Australia</td><td>Athletics</td><td>1</td></tr><tr><td>Austria</td><td>Athletics, Swimming</td><td>2</td></tr><tr><td>Azerbaijan</td><td>Judo</td><td>1</td></tr><tr><td>Bahamas</td><td>Athletics</td><td>1</td></tr><tr><td>Bahrain</td><td>Athletics, Handball</td><td>2</td></tr><tr><td>Bangladesh</td><td>Archery, Swimming</td><td>2</td></tr><tr><td>Barbados</td><td>Athletics</td><td>1</td></tr><tr><td>Belarus</td><td>Athletics</td><td>1</td></tr><tr><td>Belgium</td><td>Athletics</td><td>1</td></tr><tr><td>Belize</td><td>Athletics</td><td>1</td></tr><tr><td>Benin</td><td>Athletics</td><td>1</td></tr><tr><td>Bermuda</td><td>Rowing, Triathlon</td><td>2</td></tr><tr><td>Bhutan</td><td>Archery, Shooting, Swimming</td><td>3</td></tr><tr><td>Bolivia</td><td>Athletics, Swimming</td><td>2</td></tr><tr><td>Bosnia and Herzegovina</td><td>Athletics, Swimming</td><td>2</td></tr><tr><td>Botswana</td><td>Athletics</td><td>1</td></tr><tr><td>Brazil</td><td>Athletics</td><td>1</td></tr><tr><td>Brunei Darussalam</td><td>Athletics, Swimming</td><td>2</td></tr><tr><td>Bulgaria</td><td>Rhythmic Gymnastics, Wrestling</td><td>2</td></tr><tr><td>Burkina Faso</td><td>Athletics, Swimming</td><td>2</td></tr><tr><td>Burundi</td><td>Athletics</td><td>1</td></tr><tr><td>Cambodia</td><td>Swimming</td><td>1</td></tr><tr><td>Cameroon</td><td>Boxing</td><td>1</td></tr><tr><td>Canada</td><td>Athletics</td><td>1</td></tr><tr><td>Cape Verde</td><td>Swimming</td><td>1</td></tr><tr><td>Cayman Islands</td><td>Athletics, Swimming</td><td>2</td></tr><tr><td>Central African Republic</td><td>Athletics, Swimming</td><td>2</td></tr><tr><td>Chad</td><td>Archery, Athletics, Judo</td><td>3</td></tr><tr><td>Chile</td><td>Football</td><td>1</td></tr><tr><td>Chinese Taipei</td><td>Weightlifting</td><td>1</td></tr><tr><td>Colombia</td><td>Athletics</td><td>1</td></tr><tr><td>Comoros</td><td>Athletics</td><td>1</td></tr><tr><td>Congo</td><td>Athletics</td><td>1</td></tr><tr><td>Cook Islands</td><td>Canoe Sprint, Swimming</td><td>2</td></tr><tr><td>Costa Rica</td><td>Athletics</td><td>1</td></tr><tr><td>Croatia</td><td>Water Polo</td><td>1</td></tr><tr><td>Cuba</td><td>Athletics</td><td>1</td></tr><tr><td>Cyprus</td><td>Sailing</td><td>1</td></tr><tr><td>Czech Republic</td><td>Athletics</td><td>1</td></tr><tr><td>C�te d'Ivoire</td><td>Football</td><td>1</td></tr><tr><td>Democratic Republic of Timor-Leste</td><td>Swimming</td><td>1</td></tr><tr><td>Democratic Republic of the Congo</td><td>Boxing</td><td>1</td></tr><tr><td>Denmark</td><td>Athletics</td><td>1</td></tr><tr><td>Djibouti</td><td>Athletics</td><td>1</td></tr><tr><td>Dominica</td><td>Athletics</td><td>1</td></tr><tr><td>Dominican Republic</td><td>Baseball/Softball</td><td>1</td></tr><tr><td>Ecuador</td><td>Athletics</td><td>1</td></tr><tr><td>Egypt</td><td>Football</td><td>1</td></tr><tr><td>El Salvador</td><td>Swimming</td><td>1</td></tr><tr><td>Equatorial Guinea</td><td>Athletics</td><td>1</td></tr><tr><td>Eritrea</td><td>Athletics</td><td>1</td></tr><tr><td>Estonia</td><td>Athletics</td><td>1</td></tr><tr><td>Eswatini</td><td>Swimming</td><td>1</td></tr><tr><td>Ethiopia</td><td>Athletics</td><td>1</td></tr><tr><td>Federated States of Micronesia</td><td>Swimming</td><td>1</td></tr><tr><td>Fiji</td><td>Rugby Sevens</td><td>1</td></tr><tr><td>Finland</td><td>Athletics</td><td>1</td></tr><tr><td>France</td><td>Athletics</td><td>1</td></tr><tr><td>Gabon</td><td>Swimming</td><td>1</td></tr><tr><td>Gambia</td><td>Athletics</td><td>1</td></tr><tr><td>Georgia</td><td>Judo</td><td>1</td></tr><tr><td>Germany</td><td>Athletics</td><td>1</td></tr><tr><td>Ghana</td><td>Athletics</td><td>1</td></tr><tr><td>Great Britain</td><td>Athletics</td><td>1</td></tr><tr><td>Greece</td><td>Athletics</td><td>1</td></tr><tr><td>Grenada</td><td>Athletics</td><td>1</td></tr><tr><td>Guam</td><td>Swimming</td><td>1</td></tr><tr><td>Guatemala</td><td>Athletics</td><td>1</td></tr><tr><td>Guinea</td><td>Swimming</td><td>1</td></tr><tr><td>Guinea-Bissau</td><td>Wrestling</td><td>1</td></tr><tr><td>Guyana</td><td>Athletics</td><td>1</td></tr><tr><td>Haiti</td><td>Swimming</td><td>1</td></tr><tr><td>Honduras</td><td>Football</td><td>1</td></tr><tr><td>Hong Kong, China</td><td>Fencing</td><td>1</td></tr><tr><td>Hungary</td><td>Water Polo</td><td>1</td></tr><tr><td>Iceland</td><td>Swimming</td><td>1</td></tr><tr><td>India</td><td>Hockey</td><td>1</td></tr><tr><td>Indonesia</td><td>Badminton</td><td>1</td></tr><tr><td>Iraq</td><td>Athletics</td><td>1</td></tr><tr><td>Ireland</td><td>Athletics</td><td>1</td></tr><tr><td>Islamic Republic of Iran</td><td>Basketball, Volleyball</td><td>2</td></tr><tr><td>Israel</td><td>Baseball/Softball</td><td>1</td></tr><tr><td>Italy</td><td>Athletics</td><td>1</td></tr><tr><td>Jamaica</td><td>Athletics</td><td>1</td></tr><tr><td>Japan</td><td>Athletics</td><td>1</td></tr><tr><td>Jordan</td><td>Boxing</td><td>1</td></tr><tr><td>Kazakhstan</td><td>Water Polo</td><td>1</td></tr><tr><td>Kenya</td><td>Athletics</td><td>1</td></tr><tr><td>Kiribati</td><td>Athletics, Judo, Weightlifting</td><td>3</td></tr><tr><td>Kosovo</td><td>Judo</td><td>1</td></tr><tr><td>Kuwait</td><td>Shooting</td><td>1</td></tr><tr><td>Kyrgyzstan</td><td>Wrestling</td><td>1</td></tr><tr><td>Lao People's Democratic Republic</td><td>Swimming</td><td>1</td></tr><tr><td>Latvia</td><td>Athletics</td><td>1</td></tr><tr><td>Lebanon</td><td>Swimming</td><td>1</td></tr><tr><td>Lesotho</td><td>Athletics</td><td>1</td></tr><tr><td>Liberia</td><td>Athletics</td><td>1</td></tr><tr><td>Libya</td><td>Athletics, Judo, Rowing, Swimming</td><td>4</td></tr><tr><td>Liechtenstein</td><td>Artistic Swimming, Swimming</td><td>2</td></tr><tr><td>Lithuania</td><td>Athletics, Rowing</td><td>2</td></tr><tr><td>Luxembourg</td><td>Athletics, Cycling Road, Swimming, Table Tennis</td><td>4</td></tr><tr><td>Madagascar</td><td>Swimming, Weightlifting</td><td>2</td></tr><tr><td>Malawi</td><td>Swimming</td><td>1</td></tr><tr><td>Malaysia</td><td>Badminton</td><td>1</td></tr><tr><td>Maldives</td><td>Swimming</td><td>1</td></tr><tr><td>Mali</td><td>Athletics</td><td>1</td></tr><tr><td>Malta</td><td>Swimming</td><td>1</td></tr><tr><td>Marshall Islands</td><td>Swimming</td><td>1</td></tr><tr><td>Mauritania</td><td>Athletics</td><td>1</td></tr><tr><td>Mauritius</td><td>Boxing</td><td>1</td></tr><tr><td>Mexico</td><td>Baseball/Softball</td><td>1</td></tr><tr><td>Monaco</td><td>Swimming</td><td>1</td></tr><tr><td>Mongolia</td><td>Judo</td><td>1</td></tr><tr><td>Montenegro</td><td>Handball</td><td>1</td></tr><tr><td>Morocco</td><td>Athletics</td><td>1</td></tr><tr><td>Mozambique</td><td>Sailing</td><td>1</td></tr><tr><td>Myanmar</td><td>Badminton, Shooting</td><td>2</td></tr><tr><td>Namibia</td><td>Athletics</td><td>1</td></tr><tr><td>Nauru</td><td>Athletics, Weightlifting</td><td>2</td></tr><tr><td>Nepal</td><td>Swimming</td><td>1</td></tr><tr><td>Netherlands</td><td>Athletics</td><td>1</td></tr><tr><td>New Zealand</td><td>Football</td><td>1</td></tr><tr><td>Nicaragua</td><td>Rowing, Swimming</td><td>2</td></tr><tr><td>Niger</td><td>Athletics, Swimming, Taekwondo</td><td>3</td></tr><tr><td>Nigeria</td><td>Basketball</td><td>1</td></tr><tr><td>North Macedonia</td><td>Swimming</td><td>1</td></tr><tr><td>Norway</td><td>Handball</td><td>1</td></tr><tr><td>Oman</td><td>Athletics</td><td>1</td></tr><tr><td>Pakistan</td><td>Shooting</td><td>1</td></tr><tr><td>Palau</td><td>Swimming</td><td>1</td></tr><tr><td>Palestine</td><td>Athletics, Judo, Swimming, Weightlifting</td><td>4</td></tr><tr><td>Panama</td><td>Athletics</td><td>1</td></tr><tr><td>Papua New Guinea</td><td>Sailing, Swimming</td><td>2</td></tr><tr><td>Paraguay</td><td>Athletics, Swimming</td><td>2</td></tr><tr><td>People's Republic of China</td><td>Athletics</td><td>1</td></tr><tr><td>Peru</td><td>Athletics</td><td>1</td></tr><tr><td>Philippines</td><td>Boxing</td><td>1</td></tr><tr><td>Poland</td><td>Athletics</td><td>1</td></tr><tr><td>Portugal</td><td>Athletics</td><td>1</td></tr><tr><td>Puerto Rico</td><td>Basketball</td><td>1</td></tr><tr><td>Qatar</td><td>Athletics</td><td>1</td></tr><tr><td>ROC</td><td>Swimming</td><td>1</td></tr><tr><td>Refugee Olympic Team</td><td>Athletics, Judo</td><td>2</td></tr><tr><td>Republic of Korea</td><td>Baseball/Softball</td><td>1</td></tr><tr><td>Republic of Moldova</td><td>Athletics</td><td>1</td></tr><tr><td>Romania</td><td>Rowing</td><td>1</td></tr><tr><td>Rwanda</td><td>Athletics, Swimming</td><td>2</td></tr><tr><td>Saint Kitts and Nevis</td><td>Athletics</td><td>1</td></tr><tr><td>Saint Lucia</td><td>Sailing, Swimming</td><td>2</td></tr><tr><td>Samoa</td><td>Canoe Sprint</td><td>1</td></tr><tr><td>San Marino</td><td>Judo, Shooting, Swimming, Wrestling</td><td>4</td></tr><tr><td>Sao Tome and Principe</td><td>Canoe Sprint</td><td>1</td></tr><tr><td>Saudi Arabia</td><td>Football</td><td>1</td></tr><tr><td>Senegal</td><td>Swimming</td><td>1</td></tr><tr><td>Serbia</td><td>Water Polo</td><td>1</td></tr><tr><td>Seychelles</td><td>Swimming</td><td>1</td></tr><tr><td>Sierra Leone</td><td>Swimming</td><td>1</td></tr><tr><td>Singapore</td><td>Sailing, Table Tennis</td><td>2</td></tr><tr><td>Slovakia</td><td>Athletics</td><td>1</td></tr><tr><td>Slovenia</td><td>Basketball</td><td>1</td></tr><tr><td>Solomon Islands</td><td>Athletics, Swimming, Weightlifting</td><td>3</td></tr><tr><td>Somalia</td><td>Athletics, Boxing</td><td>2</td></tr><tr><td>South Africa</td><td>Hockey</td><td>1</td></tr><tr><td>South Sudan</td><td>Athletics</td><td>1</td></tr><tr><td>Spain</td><td>Athletics</td><td>1</td></tr><tr><td>Sri Lanka</td><td>Athletics, Swimming</td><td>2</td></tr><tr><td>St Vincent and the Grenadines</td><td>Swimming</td><td>1</td></tr><tr><td>Sudan</td><td>Swimming</td><td>1</td></tr><tr><td>Suriname</td><td>Badminton, Cycling Track, Swimming</td><td>3</td></tr><tr><td>Sweden</td><td>Handball</td><td>1</td></tr><tr><td>Switzerland</td><td>Athletics</td><td>1</td></tr><tr><td>Syrian Arab Republic</td><td>Athletics, Equestrian, Swimming, Table Tennis, Triathlon, Weightlifting</td><td>6</td></tr><tr><td>Tajikistan</td><td>Judo</td><td>1</td></tr><tr><td>Thailand</td><td>Badminton</td><td>1</td></tr><tr><td>Togo</td><td>Athletics, Rowing, Swimming, Table Tennis</td><td>4</td></tr><tr><td>Tonga</td><td>Swimming</td><td>1</td></tr><tr><td>Trinidad and Tobago</td><td>Athletics</td><td>1</td></tr><tr><td>Tunisia</td><td>Volleyball</td><td>1</td></tr><tr><td>Turkey</td><td>Athletics</td><td>1</td></tr><tr><td>Turkmenistan</td><td>Weightlifting</td><td>1</td></tr><tr><td>Tuvalu</td><td>Athletics</td><td>1</td></tr><tr><td>Uganda</td><td>Athletics</td><td>1</td></tr><tr><td>Ukraine</td><td>Athletics</td><td>1</td></tr><tr><td>United Arab Emirates</td><td>Judo</td><td>1</td></tr><tr><td>United Republic of Tanzania</td><td>Athletics</td><td>1</td></tr><tr><td>United States of America</td><td>Athletics</td><td>1</td></tr><tr><td>Uruguay</td><td>Athletics, Sailing</td><td>2</td></tr><tr><td>Uzbekistan</td><td>Boxing</td><td>1</td></tr><tr><td>Vanuatu</td><td>Judo, Rowing</td><td>2</td></tr><tr><td>Venezuela</td><td>Volleyball</td><td>1</td></tr><tr><td>Vietnam</td><td>Archery, Artistic Gymnastics, Badminton, Boxing, Swimming, Weightlifting</td><td>6</td></tr><tr><td>Virgin Islands, British</td><td>Athletics</td><td>1</td></tr><tr><td>Virgin Islands, US</td><td>Swimming</td><td>1</td></tr><tr><td>Yemen</td><td>Athletics, Shooting, Swimming</td><td>3</td></tr><tr><td>Zambia</td><td>Football</td><td>1</td></tr><tr><td>Zimbabwe</td><td>Swimming</td><td>1</td></tr></tbody></table></div>"
      ]
     },
     "metadata": {
      "application/vnd.databricks.v1+output": {
       "addedWidgets": {},
       "aggData": [],
       "aggError": "",
       "aggOverflow": false,
       "aggSchema": [],
       "aggSeriesLimitReached": false,
       "aggType": "",
       "arguments": {},
       "columnCustomDisplayInfos": {},
       "data": [
        [
         "Afghanistan",
         "Athletics",
         1
        ],
        [
         "Albania",
         "Swimming, Weightlifting",
         2
        ],
        [
         "Algeria",
         "Athletics, Boxing",
         2
        ],
        [
         "American Samoa",
         "Sailing",
         1
        ],
        [
         "Andorra",
         "Athletics, Canoe Slalom",
         2
        ],
        [
         "Angola",
         "Handball",
         1
        ],
        [
         "Antigua and Barbuda",
         "Athletics, Swimming",
         2
        ],
        [
         "Argentina",
         "Hockey",
         1
        ],
        [
         "Armenia",
         "Wrestling",
         1
        ],
        [
         "Aruba",
         "Swimming",
         1
        ],
        [
         "Australia",
         "Athletics",
         1
        ],
        [
         "Austria",
         "Athletics, Swimming",
         2
        ],
        [
         "Azerbaijan",
         "Judo",
         1
        ],
        [
         "Bahamas",
         "Athletics",
         1
        ],
        [
         "Bahrain",
         "Athletics, Handball",
         2
        ],
        [
         "Bangladesh",
         "Archery, Swimming",
         2
        ],
        [
         "Barbados",
         "Athletics",
         1
        ],
        [
         "Belarus",
         "Athletics",
         1
        ],
        [
         "Belgium",
         "Athletics",
         1
        ],
        [
         "Belize",
         "Athletics",
         1
        ],
        [
         "Benin",
         "Athletics",
         1
        ],
        [
         "Bermuda",
         "Rowing, Triathlon",
         2
        ],
        [
         "Bhutan",
         "Archery, Shooting, Swimming",
         3
        ],
        [
         "Bolivia",
         "Athletics, Swimming",
         2
        ],
        [
         "Bosnia and Herzegovina",
         "Athletics, Swimming",
         2
        ],
        [
         "Botswana",
         "Athletics",
         1
        ],
        [
         "Brazil",
         "Athletics",
         1
        ],
        [
         "Brunei Darussalam",
         "Athletics, Swimming",
         2
        ],
        [
         "Bulgaria",
         "Rhythmic Gymnastics, Wrestling",
         2
        ],
        [
         "Burkina Faso",
         "Athletics, Swimming",
         2
        ],
        [
         "Burundi",
         "Athletics",
         1
        ],
        [
         "Cambodia",
         "Swimming",
         1
        ],
        [
         "Cameroon",
         "Boxing",
         1
        ],
        [
         "Canada",
         "Athletics",
         1
        ],
        [
         "Cape Verde",
         "Swimming",
         1
        ],
        [
         "Cayman Islands",
         "Athletics, Swimming",
         2
        ],
        [
         "Central African Republic",
         "Athletics, Swimming",
         2
        ],
        [
         "Chad",
         "Archery, Athletics, Judo",
         3
        ],
        [
         "Chile",
         "Football",
         1
        ],
        [
         "Chinese Taipei",
         "Weightlifting",
         1
        ],
        [
         "Colombia",
         "Athletics",
         1
        ],
        [
         "Comoros",
         "Athletics",
         1
        ],
        [
         "Congo",
         "Athletics",
         1
        ],
        [
         "Cook Islands",
         "Canoe Sprint, Swimming",
         2
        ],
        [
         "Costa Rica",
         "Athletics",
         1
        ],
        [
         "Croatia",
         "Water Polo",
         1
        ],
        [
         "Cuba",
         "Athletics",
         1
        ],
        [
         "Cyprus",
         "Sailing",
         1
        ],
        [
         "Czech Republic",
         "Athletics",
         1
        ],
        [
         "C�te d'Ivoire",
         "Football",
         1
        ],
        [
         "Democratic Republic of Timor-Leste",
         "Swimming",
         1
        ],
        [
         "Democratic Republic of the Congo",
         "Boxing",
         1
        ],
        [
         "Denmark",
         "Athletics",
         1
        ],
        [
         "Djibouti",
         "Athletics",
         1
        ],
        [
         "Dominica",
         "Athletics",
         1
        ],
        [
         "Dominican Republic",
         "Baseball/Softball",
         1
        ],
        [
         "Ecuador",
         "Athletics",
         1
        ],
        [
         "Egypt",
         "Football",
         1
        ],
        [
         "El Salvador",
         "Swimming",
         1
        ],
        [
         "Equatorial Guinea",
         "Athletics",
         1
        ],
        [
         "Eritrea",
         "Athletics",
         1
        ],
        [
         "Estonia",
         "Athletics",
         1
        ],
        [
         "Eswatini",
         "Swimming",
         1
        ],
        [
         "Ethiopia",
         "Athletics",
         1
        ],
        [
         "Federated States of Micronesia",
         "Swimming",
         1
        ],
        [
         "Fiji",
         "Rugby Sevens",
         1
        ],
        [
         "Finland",
         "Athletics",
         1
        ],
        [
         "France",
         "Athletics",
         1
        ],
        [
         "Gabon",
         "Swimming",
         1
        ],
        [
         "Gambia",
         "Athletics",
         1
        ],
        [
         "Georgia",
         "Judo",
         1
        ],
        [
         "Germany",
         "Athletics",
         1
        ],
        [
         "Ghana",
         "Athletics",
         1
        ],
        [
         "Great Britain",
         "Athletics",
         1
        ],
        [
         "Greece",
         "Athletics",
         1
        ],
        [
         "Grenada",
         "Athletics",
         1
        ],
        [
         "Guam",
         "Swimming",
         1
        ],
        [
         "Guatemala",
         "Athletics",
         1
        ],
        [
         "Guinea",
         "Swimming",
         1
        ],
        [
         "Guinea-Bissau",
         "Wrestling",
         1
        ],
        [
         "Guyana",
         "Athletics",
         1
        ],
        [
         "Haiti",
         "Swimming",
         1
        ],
        [
         "Honduras",
         "Football",
         1
        ],
        [
         "Hong Kong, China",
         "Fencing",
         1
        ],
        [
         "Hungary",
         "Water Polo",
         1
        ],
        [
         "Iceland",
         "Swimming",
         1
        ],
        [
         "India",
         "Hockey",
         1
        ],
        [
         "Indonesia",
         "Badminton",
         1
        ],
        [
         "Iraq",
         "Athletics",
         1
        ],
        [
         "Ireland",
         "Athletics",
         1
        ],
        [
         "Islamic Republic of Iran",
         "Basketball, Volleyball",
         2
        ],
        [
         "Israel",
         "Baseball/Softball",
         1
        ],
        [
         "Italy",
         "Athletics",
         1
        ],
        [
         "Jamaica",
         "Athletics",
         1
        ],
        [
         "Japan",
         "Athletics",
         1
        ],
        [
         "Jordan",
         "Boxing",
         1
        ],
        [
         "Kazakhstan",
         "Water Polo",
         1
        ],
        [
         "Kenya",
         "Athletics",
         1
        ],
        [
         "Kiribati",
         "Athletics, Judo, Weightlifting",
         3
        ],
        [
         "Kosovo",
         "Judo",
         1
        ],
        [
         "Kuwait",
         "Shooting",
         1
        ],
        [
         "Kyrgyzstan",
         "Wrestling",
         1
        ],
        [
         "Lao People's Democratic Republic",
         "Swimming",
         1
        ],
        [
         "Latvia",
         "Athletics",
         1
        ],
        [
         "Lebanon",
         "Swimming",
         1
        ],
        [
         "Lesotho",
         "Athletics",
         1
        ],
        [
         "Liberia",
         "Athletics",
         1
        ],
        [
         "Libya",
         "Athletics, Judo, Rowing, Swimming",
         4
        ],
        [
         "Liechtenstein",
         "Artistic Swimming, Swimming",
         2
        ],
        [
         "Lithuania",
         "Athletics, Rowing",
         2
        ],
        [
         "Luxembourg",
         "Athletics, Cycling Road, Swimming, Table Tennis",
         4
        ],
        [
         "Madagascar",
         "Swimming, Weightlifting",
         2
        ],
        [
         "Malawi",
         "Swimming",
         1
        ],
        [
         "Malaysia",
         "Badminton",
         1
        ],
        [
         "Maldives",
         "Swimming",
         1
        ],
        [
         "Mali",
         "Athletics",
         1
        ],
        [
         "Malta",
         "Swimming",
         1
        ],
        [
         "Marshall Islands",
         "Swimming",
         1
        ],
        [
         "Mauritania",
         "Athletics",
         1
        ],
        [
         "Mauritius",
         "Boxing",
         1
        ],
        [
         "Mexico",
         "Baseball/Softball",
         1
        ],
        [
         "Monaco",
         "Swimming",
         1
        ],
        [
         "Mongolia",
         "Judo",
         1
        ],
        [
         "Montenegro",
         "Handball",
         1
        ],
        [
         "Morocco",
         "Athletics",
         1
        ],
        [
         "Mozambique",
         "Sailing",
         1
        ],
        [
         "Myanmar",
         "Badminton, Shooting",
         2
        ],
        [
         "Namibia",
         "Athletics",
         1
        ],
        [
         "Nauru",
         "Athletics, Weightlifting",
         2
        ],
        [
         "Nepal",
         "Swimming",
         1
        ],
        [
         "Netherlands",
         "Athletics",
         1
        ],
        [
         "New Zealand",
         "Football",
         1
        ],
        [
         "Nicaragua",
         "Rowing, Swimming",
         2
        ],
        [
         "Niger",
         "Athletics, Swimming, Taekwondo",
         3
        ],
        [
         "Nigeria",
         "Basketball",
         1
        ],
        [
         "North Macedonia",
         "Swimming",
         1
        ],
        [
         "Norway",
         "Handball",
         1
        ],
        [
         "Oman",
         "Athletics",
         1
        ],
        [
         "Pakistan",
         "Shooting",
         1
        ],
        [
         "Palau",
         "Swimming",
         1
        ],
        [
         "Palestine",
         "Athletics, Judo, Swimming, Weightlifting",
         4
        ],
        [
         "Panama",
         "Athletics",
         1
        ],
        [
         "Papua New Guinea",
         "Sailing, Swimming",
         2
        ],
        [
         "Paraguay",
         "Athletics, Swimming",
         2
        ],
        [
         "People's Republic of China",
         "Athletics",
         1
        ],
        [
         "Peru",
         "Athletics",
         1
        ],
        [
         "Philippines",
         "Boxing",
         1
        ],
        [
         "Poland",
         "Athletics",
         1
        ],
        [
         "Portugal",
         "Athletics",
         1
        ],
        [
         "Puerto Rico",
         "Basketball",
         1
        ],
        [
         "Qatar",
         "Athletics",
         1
        ],
        [
         "ROC",
         "Swimming",
         1
        ],
        [
         "Refugee Olympic Team",
         "Athletics, Judo",
         2
        ],
        [
         "Republic of Korea",
         "Baseball/Softball",
         1
        ],
        [
         "Republic of Moldova",
         "Athletics",
         1
        ],
        [
         "Romania",
         "Rowing",
         1
        ],
        [
         "Rwanda",
         "Athletics, Swimming",
         2
        ],
        [
         "Saint Kitts and Nevis",
         "Athletics",
         1
        ],
        [
         "Saint Lucia",
         "Sailing, Swimming",
         2
        ],
        [
         "Samoa",
         "Canoe Sprint",
         1
        ],
        [
         "San Marino",
         "Judo, Shooting, Swimming, Wrestling",
         4
        ],
        [
         "Sao Tome and Principe",
         "Canoe Sprint",
         1
        ],
        [
         "Saudi Arabia",
         "Football",
         1
        ],
        [
         "Senegal",
         "Swimming",
         1
        ],
        [
         "Serbia",
         "Water Polo",
         1
        ],
        [
         "Seychelles",
         "Swimming",
         1
        ],
        [
         "Sierra Leone",
         "Swimming",
         1
        ],
        [
         "Singapore",
         "Sailing, Table Tennis",
         2
        ],
        [
         "Slovakia",
         "Athletics",
         1
        ],
        [
         "Slovenia",
         "Basketball",
         1
        ],
        [
         "Solomon Islands",
         "Athletics, Swimming, Weightlifting",
         3
        ],
        [
         "Somalia",
         "Athletics, Boxing",
         2
        ],
        [
         "South Africa",
         "Hockey",
         1
        ],
        [
         "South Sudan",
         "Athletics",
         1
        ],
        [
         "Spain",
         "Athletics",
         1
        ],
        [
         "Sri Lanka",
         "Athletics, Swimming",
         2
        ],
        [
         "St Vincent and the Grenadines",
         "Swimming",
         1
        ],
        [
         "Sudan",
         "Swimming",
         1
        ],
        [
         "Suriname",
         "Badminton, Cycling Track, Swimming",
         3
        ],
        [
         "Sweden",
         "Handball",
         1
        ],
        [
         "Switzerland",
         "Athletics",
         1
        ],
        [
         "Syrian Arab Republic",
         "Athletics, Equestrian, Swimming, Table Tennis, Triathlon, Weightlifting",
         6
        ],
        [
         "Tajikistan",
         "Judo",
         1
        ],
        [
         "Thailand",
         "Badminton",
         1
        ],
        [
         "Togo",
         "Athletics, Rowing, Swimming, Table Tennis",
         4
        ],
        [
         "Tonga",
         "Swimming",
         1
        ],
        [
         "Trinidad and Tobago",
         "Athletics",
         1
        ],
        [
         "Tunisia",
         "Volleyball",
         1
        ],
        [
         "Turkey",
         "Athletics",
         1
        ],
        [
         "Turkmenistan",
         "Weightlifting",
         1
        ],
        [
         "Tuvalu",
         "Athletics",
         1
        ],
        [
         "Uganda",
         "Athletics",
         1
        ],
        [
         "Ukraine",
         "Athletics",
         1
        ],
        [
         "United Arab Emirates",
         "Judo",
         1
        ],
        [
         "United Republic of Tanzania",
         "Athletics",
         1
        ],
        [
         "United States of America",
         "Athletics",
         1
        ],
        [
         "Uruguay",
         "Athletics, Sailing",
         2
        ],
        [
         "Uzbekistan",
         "Boxing",
         1
        ],
        [
         "Vanuatu",
         "Judo, Rowing",
         2
        ],
        [
         "Venezuela",
         "Volleyball",
         1
        ],
        [
         "Vietnam",
         "Archery, Artistic Gymnastics, Badminton, Boxing, Swimming, Weightlifting",
         6
        ],
        [
         "Virgin Islands, British",
         "Athletics",
         1
        ],
        [
         "Virgin Islands, US",
         "Swimming",
         1
        ],
        [
         "Yemen",
         "Athletics, Shooting, Swimming",
         3
        ],
        [
         "Zambia",
         "Football",
         1
        ],
        [
         "Zimbabwe",
         "Swimming",
         1
        ]
       ],
       "datasetInfos": [],
       "dbfsResultPath": null,
       "isJsonSchema": true,
       "metadata": {},
       "overflow": false,
       "plotOptions": {
        "customPlotOptions": {},
        "displayType": "table",
        "pivotAggregation": null,
        "pivotColumns": null,
        "xColumns": null,
        "yColumns": null
       },
       "removedWidgets": [],
       "schema": [
        {
         "metadata": "{}",
         "name": "Country",
         "type": "\"string\""
        },
        {
         "metadata": "{}",
         "name": "Disciplines",
         "type": "\"string\""
        },
        {
         "metadata": "{}",
         "name": "No_of_DifferentDisciplines",
         "type": "\"long\""
        }
       ],
       "type": "table"
      }
     },
     "output_type": "display_data"
    }
   ],
   "source": [
    "# which disciplines each country participated in the most\n",
    "df_country_discipline = (df_athletes\n",
    "                         .dropDuplicates()\n",
    "                         .groupBy(\"Country\", \"Discipline\")\n",
    "                         .agg(sf.count(\"*\").alias(\"DisciplineCount\"))\n",
    "                         .withColumn(\"Rank\", sf.rank().over(Window.partitionBy(\"Country\").orderBy(sf.col(\"DisciplineCount\").desc())))\n",
    "                         .where(\"Rank == 1\")\n",
    "                         .drop(\"Rank\")\n",
    "                         .groupBy(\"Country\")\n",
    "                         .agg(concat_ws(', ', collect_list(\"Discipline\")).alias(\"Disciplines\"), sf.countDistinct(\"Discipline\").alias(\"No_of_DifferentDisciplines\"))\n",
    "                         )\n",
    "\n",
    "display(df_country_discipline)\n",
    "\n",
    "# Athletes from Vietnam and Syrian Arab Republic praticipated in many disciplines than the Athletes from other countries."
   ]
  },
  {
   "cell_type": "code",
   "execution_count": 0,
   "metadata": {
    "application/vnd.databricks.v1+cell": {
     "cellMetadata": {
      "byteLimit": 2048000,
      "rowLimit": 10000
     },
     "inputWidgets": {},
     "nuid": "e5c99dbf-4f83-4565-a5be-a74b1e70e515",
     "showTitle": true,
     "title": "Coach Analysis: 1"
    }
   },
   "outputs": [
    {
     "output_type": "display_data",
     "data": {
      "text/html": [
       "<style scoped>\n",
       "  .table-result-container {\n",
       "    max-height: 300px;\n",
       "    overflow: auto;\n",
       "  }\n",
       "  table, th, td {\n",
       "    border: 1px solid black;\n",
       "    border-collapse: collapse;\n",
       "  }\n",
       "  th, td {\n",
       "    padding: 5px;\n",
       "  }\n",
       "  th {\n",
       "    text-align: left;\n",
       "  }\n",
       "</style><div class='table-result-container'><table class='table-result'><thead style='background-color: white'><tr><th>Country</th><th>Number_of_Coaches</th><th>CountryRanking_CoachesCount</th></tr></thead><tbody><tr><td>Japan</td><td>35</td><td>1</td></tr><tr><td>United States of America</td><td>28</td><td>2</td></tr><tr><td>Spain</td><td>26</td><td>3</td></tr><tr><td>Australia</td><td>21</td><td>4</td></tr><tr><td>Canada</td><td>15</td><td>5</td></tr><tr><td>Italy</td><td>12</td><td>6</td></tr><tr><td>South Africa</td><td>12</td><td>6</td></tr><tr><td>ROC</td><td>12</td><td>6</td></tr><tr><td>People's Republic of China</td><td>11</td><td>9</td></tr><tr><td>France</td><td>10</td><td>10</td></tr><tr><td>Argentina</td><td>10</td><td>10</td></tr><tr><td>Venezuela</td><td>10</td><td>10</td></tr><tr><td>Egypt</td><td>10</td><td>10</td></tr><tr><td>Netherlands</td><td>10</td><td>10</td></tr><tr><td>Germany</td><td>9</td><td>15</td></tr><tr><td>Nigeria</td><td>9</td><td>15</td></tr><tr><td>New Zealand</td><td>8</td><td>17</td></tr><tr><td>Republic of Korea</td><td>7</td><td>18</td></tr><tr><td>Great Britain</td><td>7</td><td>18</td></tr><tr><td>Mexico</td><td>7</td><td>18</td></tr><tr><td>Brazil</td><td>7</td><td>18</td></tr><tr><td>Chile</td><td>6</td><td>22</td></tr><tr><td>Dominican Republic</td><td>6</td><td>22</td></tr><tr><td>Belgium</td><td>5</td><td>24</td></tr><tr><td>India</td><td>5</td><td>24</td></tr><tr><td>C�te d'Ivoire</td><td>5</td><td>24</td></tr><tr><td>Kenya</td><td>5</td><td>24</td></tr><tr><td>Serbia</td><td>5</td><td>24</td></tr><tr><td>Greece</td><td>4</td><td>29</td></tr><tr><td>Ukraine</td><td>4</td><td>29</td></tr><tr><td>Hungary</td><td>4</td><td>29</td></tr><tr><td>Sweden</td><td>3</td><td>32</td></tr><tr><td>Puerto Rico</td><td>3</td><td>32</td></tr><tr><td>Norway</td><td>3</td><td>32</td></tr><tr><td>Ireland</td><td>3</td><td>32</td></tr><tr><td>Slovenia</td><td>3</td><td>32</td></tr><tr><td>Poland</td><td>3</td><td>32</td></tr><tr><td>Austria</td><td>3</td><td>32</td></tr><tr><td>Islamic Republic of Iran</td><td>2</td><td>39</td></tr><tr><td>Fiji</td><td>2</td><td>39</td></tr><tr><td>San Marino</td><td>2</td><td>39</td></tr><tr><td>Denmark</td><td>2</td><td>39</td></tr><tr><td>Israel</td><td>2</td><td>39</td></tr><tr><td>Montenegro</td><td>2</td><td>39</td></tr><tr><td>Saudi Arabia</td><td>2</td><td>39</td></tr><tr><td>Zambia</td><td>2</td><td>39</td></tr><tr><td>Czech Republic</td><td>2</td><td>39</td></tr><tr><td>Romania</td><td>2</td><td>39</td></tr><tr><td>Kazakhstan</td><td>2</td><td>39</td></tr><tr><td>Colombia</td><td>2</td><td>39</td></tr><tr><td>Turkey</td><td>1</td><td>51</td></tr><tr><td>Cambodia</td><td>1</td><td>51</td></tr><tr><td>Slovakia</td><td>1</td><td>51</td></tr><tr><td>Angola</td><td>1</td><td>51</td></tr><tr><td>Belarus</td><td>1</td><td>51</td></tr><tr><td>Croatia</td><td>1</td><td>51</td></tr><tr><td>Liechtenstein</td><td>1</td><td>51</td></tr><tr><td>Tunisia</td><td>1</td><td>51</td></tr><tr><td>Honduras</td><td>1</td><td>51</td></tr><tr><td>Portugal</td><td>1</td><td>51</td></tr><tr><td>Bahrain</td><td>1</td><td>51</td></tr></tbody></table></div>"
      ]
     },
     "metadata": {
      "application/vnd.databricks.v1+output": {
       "addedWidgets": {},
       "aggData": [],
       "aggError": "",
       "aggOverflow": false,
       "aggSchema": [],
       "aggSeriesLimitReached": false,
       "aggType": "",
       "arguments": {},
       "columnCustomDisplayInfos": {},
       "data": [
        [
         "Japan",
         35,
         1
        ],
        [
         "United States of America",
         28,
         2
        ],
        [
         "Spain",
         26,
         3
        ],
        [
         "Australia",
         21,
         4
        ],
        [
         "Canada",
         15,
         5
        ],
        [
         "Italy",
         12,
         6
        ],
        [
         "South Africa",
         12,
         6
        ],
        [
         "ROC",
         12,
         6
        ],
        [
         "People's Republic of China",
         11,
         9
        ],
        [
         "France",
         10,
         10
        ],
        [
         "Argentina",
         10,
         10
        ],
        [
         "Venezuela",
         10,
         10
        ],
        [
         "Egypt",
         10,
         10
        ],
        [
         "Netherlands",
         10,
         10
        ],
        [
         "Germany",
         9,
         15
        ],
        [
         "Nigeria",
         9,
         15
        ],
        [
         "New Zealand",
         8,
         17
        ],
        [
         "Republic of Korea",
         7,
         18
        ],
        [
         "Great Britain",
         7,
         18
        ],
        [
         "Mexico",
         7,
         18
        ],
        [
         "Brazil",
         7,
         18
        ],
        [
         "Chile",
         6,
         22
        ],
        [
         "Dominican Republic",
         6,
         22
        ],
        [
         "Belgium",
         5,
         24
        ],
        [
         "India",
         5,
         24
        ],
        [
         "C�te d'Ivoire",
         5,
         24
        ],
        [
         "Kenya",
         5,
         24
        ],
        [
         "Serbia",
         5,
         24
        ],
        [
         "Greece",
         4,
         29
        ],
        [
         "Ukraine",
         4,
         29
        ],
        [
         "Hungary",
         4,
         29
        ],
        [
         "Sweden",
         3,
         32
        ],
        [
         "Puerto Rico",
         3,
         32
        ],
        [
         "Norway",
         3,
         32
        ],
        [
         "Ireland",
         3,
         32
        ],
        [
         "Slovenia",
         3,
         32
        ],
        [
         "Poland",
         3,
         32
        ],
        [
         "Austria",
         3,
         32
        ],
        [
         "Islamic Republic of Iran",
         2,
         39
        ],
        [
         "Fiji",
         2,
         39
        ],
        [
         "San Marino",
         2,
         39
        ],
        [
         "Denmark",
         2,
         39
        ],
        [
         "Israel",
         2,
         39
        ],
        [
         "Montenegro",
         2,
         39
        ],
        [
         "Saudi Arabia",
         2,
         39
        ],
        [
         "Zambia",
         2,
         39
        ],
        [
         "Czech Republic",
         2,
         39
        ],
        [
         "Romania",
         2,
         39
        ],
        [
         "Kazakhstan",
         2,
         39
        ],
        [
         "Colombia",
         2,
         39
        ],
        [
         "Turkey",
         1,
         51
        ],
        [
         "Cambodia",
         1,
         51
        ],
        [
         "Slovakia",
         1,
         51
        ],
        [
         "Angola",
         1,
         51
        ],
        [
         "Belarus",
         1,
         51
        ],
        [
         "Croatia",
         1,
         51
        ],
        [
         "Liechtenstein",
         1,
         51
        ],
        [
         "Tunisia",
         1,
         51
        ],
        [
         "Honduras",
         1,
         51
        ],
        [
         "Portugal",
         1,
         51
        ],
        [
         "Bahrain",
         1,
         51
        ]
       ],
       "datasetInfos": [],
       "dbfsResultPath": null,
       "isJsonSchema": true,
       "metadata": {},
       "overflow": false,
       "plotOptions": {
        "customPlotOptions": {},
        "displayType": "table",
        "pivotAggregation": null,
        "pivotColumns": null,
        "xColumns": null,
        "yColumns": null
       },
       "removedWidgets": [],
       "schema": [
        {
         "metadata": "{}",
         "name": "Country",
         "type": "\"string\""
        },
        {
         "metadata": "{}",
         "name": "Number_of_Coaches",
         "type": "\"long\""
        },
        {
         "metadata": "{}",
         "name": "CountryRanking_CoachesCount",
         "type": "\"integer\""
        }
       ],
       "type": "table"
      }
     },
     "output_type": "display_data"
    }
   ],
   "source": [
    "df_coaches = (spark.read.format(\"csv\")\n",
    "               .options(header = \"true\", inferSchema =\"true\")\n",
    "               .load(\"/mnt/tokyoolymic/raw-data/coaches.csv\")\n",
    "               )\n",
    "\n",
    "# Identifying countries with more Athletes and ranking countries based on Athletes Count\n",
    "df_coaches_countries = (df_coaches\n",
    "                         .dropDuplicates()\n",
    "                         .groupBy(\"Country\")\n",
    "                         .agg(sf.countDistinct(\"Name\").alias(\"Number_of_Coaches\"))\n",
    "                         .withColumn(\"CountryRanking_CoachesCount\", sf.rank().over(Window.orderBy(sf.col(\"Number_of_Coaches\").desc())))\n",
    "                         )\n",
    "\n",
    "display(df_coaches_countries)\n",
    "\n",
    "# Japan Coaches partcipated more than other country's coaches in Olympics."
   ]
  },
  {
   "cell_type": "code",
   "execution_count": 0,
   "metadata": {
    "application/vnd.databricks.v1+cell": {
     "cellMetadata": {
      "byteLimit": 2048000,
      "rowLimit": 10000
     },
     "inputWidgets": {},
     "nuid": "3929901a-1721-4a40-bb86-567110c55115",
     "showTitle": false,
     "title": ""
    }
   },
   "outputs": [
    {
     "output_type": "display_data",
     "data": {
      "image/png": "[encoded data removed]"
     },
     "metadata": {
      "application/vnd.databricks.v1+output": {
       "addedWidgets": {},
       "arguments": {},
       "data": "data:image/png;base64,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\n",
       "datasetInfos": [],
       "metadata": {},
       "removedWidgets": [],
       "type": "image"
      }
     },
     "output_type": "display_data"
    }
   ],
   "source": [
    "# Visualization of first 5 countries with more Coaches\n",
    "df_five_country_coaches = (df_coaches_countries\n",
    "                            .where(sf.col(\"CountryRanking_CoachesCount\").isin(1,2,3,4,5)))\n",
    "\n",
    "df_coaches_pd = df_five_country_coaches.toPandas()\n",
    "\n",
    "plt.figure(figsize=(10,6))\n",
    "sns.barplot(x = \"Country\", y = \"Number_of_Coaches\", data = df_coaches_pd)\n",
    "plt.title('Top 5 Countries with the Highest Number of Coaches in the Tokyo Olympics')\n",
    "plt.show()"
   ]
  },
  {
   "cell_type": "code",
   "execution_count": 0,
   "metadata": {
    "application/vnd.databricks.v1+cell": {
     "cellMetadata": {
      "byteLimit": 2048000,
      "rowLimit": 10000
     },
     "inputWidgets": {},
     "nuid": "7d7ac449-457f-4aa4-8495-20dfdf1d53a2",
     "showTitle": true,
     "title": "Coach Analysis: 2"
    }
   },
   "outputs": [
    {
     "output_type": "display_data",
     "data": {
      "text/html": [
       "<style scoped>\n",
       "  .table-result-container {\n",
       "    max-height: 300px;\n",
       "    overflow: auto;\n",
       "  }\n",
       "  table, th, td {\n",
       "    border: 1px solid black;\n",
       "    border-collapse: collapse;\n",
       "  }\n",
       "  th, td {\n",
       "    padding: 5px;\n",
       "  }\n",
       "  th {\n",
       "    text-align: left;\n",
       "  }\n",
       "</style><div class='table-result-container'><table class='table-result'><thead style='background-color: white'><tr><th>Discipline</th><th>Coaches_Participation_Count</th><th>DisciplineRanking_CoachesCount</th></tr></thead><tbody><tr><td>Basketball</td><td>74</td><td>1</td></tr><tr><td>Football</td><td>59</td><td>2</td></tr><tr><td>Artistic Swimming</td><td>58</td><td>3</td></tr><tr><td>Volleyball</td><td>45</td><td>4</td></tr><tr><td>Hockey</td><td>44</td><td>5</td></tr><tr><td>Handball</td><td>29</td><td>6</td></tr><tr><td>Baseball/Softball</td><td>25</td><td>7</td></tr><tr><td>Rugby Sevens</td><td>25</td><td>7</td></tr><tr><td>Water Polo</td><td>22</td><td>9</td></tr></tbody></table></div>"
      ]
     },
     "metadata": {
      "application/vnd.databricks.v1+output": {
       "addedWidgets": {},
       "aggData": [],
       "aggError": "",
       "aggOverflow": false,
       "aggSchema": [],
       "aggSeriesLimitReached": false,
       "aggType": "",
       "arguments": {},
       "columnCustomDisplayInfos": {},
       "data": [
        [
         "Basketball",
         74,
         1
        ],
        [
         "Football",
         59,
         2
        ],
        [
         "Artistic Swimming",
         58,
         3
        ],
        [
         "Volleyball",
         45,
         4
        ],
        [
         "Hockey",
         44,
         5
        ],
        [
         "Handball",
         29,
         6
        ],
        [
         "Baseball/Softball",
         25,
         7
        ],
        [
         "Rugby Sevens",
         25,
         7
        ],
        [
         "Water Polo",
         22,
         9
        ]
       ],
       "datasetInfos": [],
       "dbfsResultPath": null,
       "isJsonSchema": true,
       "metadata": {},
       "overflow": false,
       "plotOptions": {
        "customPlotOptions": {},
        "displayType": "table",
        "pivotAggregation": null,
        "pivotColumns": null,
        "xColumns": null,
        "yColumns": null
       },
       "removedWidgets": [],
       "schema": [
        {
         "metadata": "{}",
         "name": "Discipline",
         "type": "\"string\""
        },
        {
         "metadata": "{}",
         "name": "Coaches_Participation_Count",
         "type": "\"long\""
        },
        {
         "metadata": "{}",
         "name": "DisciplineRanking_CoachesCount",
         "type": "\"integer\""
        }
       ],
       "type": "table"
      }
     },
     "output_type": "display_data"
    }
   ],
   "source": [
    "#disciplines having highest participation or number of Athletes participating\n",
    "df_coaches_discipline = (df_coaches\n",
    "                         .dropDuplicates()\n",
    "                         .groupBy(\"Discipline\")\n",
    "                         .agg(sf.countDistinct(\"Name\").alias(\"Coaches_Participation_Count\"))\n",
    "                         .withColumn(\"DisciplineRanking_CoachesCount\", sf.rank().over(Window.orderBy(sf.col(\"Coaches_Participation_Count\").desc())))\n",
    "                         )\n",
    "                         \n",
    "display(df_coaches_discipline)"
   ]
  },
  {
   "cell_type": "code",
   "execution_count": 0,
   "metadata": {
    "application/vnd.databricks.v1+cell": {
     "cellMetadata": {
      "byteLimit": 2048000,
      "rowLimit": 10000
     },
     "inputWidgets": {},
     "nuid": "d77c9ede-7cae-4aa9-b7cb-a86d3c7ed75c",
     "showTitle": false,
     "title": ""
    }
   },
   "outputs": [
    {
     "output_type": "display_data",
     "data": {
      "image/png": "[encoded data removed]"
     },
     "metadata": {
      "application/vnd.databricks.v1+output": {
       "addedWidgets": {},
       "arguments": {},
       "data": "data:image/png;base64,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\n",
       "datasetInfos": [],
       "metadata": {},
       "removedWidgets": [],
       "type": "image"
      }
     },
     "output_type": "display_data"
    }
   ],
   "source": [
    "# Visualization of first 5 disciplies with more Coaches\n",
    "df_five_discipline_coaches = (df_coaches_discipline\n",
    "                               .where(sf.col(\"DisciplineRanking_CoachesCount\").isin(1,2,3,4,5))\n",
    "                               )\n",
    "\n",
    "df_coaches_discipline_pd = df_five_discipline_coaches.toPandas()\n",
    "\n",
    "plt.figure(figsize=(10,6))\n",
    "sns.barplot(x = \"Discipline\", y = \"Coaches_Participation_Count\", data = df_coaches_discipline_pd)\n",
    "plt.title('Top 5 Discipline with the Highest Number of Coaches in the Tokyo Olympics')\n",
    "plt.show()\n",
    "\n",
    "# \"Basketball\" discipline has more Coaches."
   ]
  },
  {
   "cell_type": "code",
   "execution_count": 0,
   "metadata": {
    "application/vnd.databricks.v1+cell": {
     "cellMetadata": {
      "byteLimit": 2048000,
      "rowLimit": 10000
     },
     "inputWidgets": {},
     "nuid": "126c63ad-7286-405c-8fbb-58c6eab410e7",
     "showTitle": true,
     "title": "Medals Analysis: 1"
    }
   },
   "outputs": [
    {
     "output_type": "display_data",
     "data": {
      "image/png": "[encoded data removed]"
     },
     "metadata": {
      "application/vnd.databricks.v1+output": {
       "addedWidgets": {},
       "arguments": {},
       "data": "data:image/png;base64,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\n",
       "datasetInfos": [],
       "metadata": {},
       "removedWidgets": [],
       "type": "image"
      }
     },
     "output_type": "display_data"
    }
   ],
   "source": [
    "df_medals = (spark.read.format(\"csv\")\n",
    "               .options(header = \"true\", inferSchema =\"true\")\n",
    "               .load(\"/mnt/tokyoolymic/raw-data/medals.csv\")\n",
    "               .withColumnRenamed(\"Rank by Total\", \"Rank_by_Total\")\n",
    "               )\n",
    "\n",
    "df_ten_country_medals = (df_medals\n",
    "                         .where(sf.col(\"Rank_by_Total\").isin(1,2,3,4,5,6,7,8,9,10))\n",
    "                         )              \n",
    "\n",
    "df_country_medals_pd = df_ten_country_medals.toPandas()\n",
    "\n",
    "df_country_medals_pd.set_index('Team_Country', inplace=True)\n",
    "ax = df_country_medals_pd[['Gold', 'Silver', 'Bronze']].plot(kind='bar', stacked=True, figsize=(10, 6))\n",
    "ax.set_title('Medal Distribution by Country')\n",
    "ax.set_xlabel('Country')\n",
    "ax.set_ylabel('Number of Medals')\n",
    "ax.legend(title='Medal Type', loc='upper right', labels=['Gold', 'Silver', 'Bronze'])\n",
    "plt.show()"
   ]
  },
  {
   "cell_type": "code",
   "execution_count": 0,
   "metadata": {
    "application/vnd.databricks.v1+cell": {
     "cellMetadata": {
      "byteLimit": 2048000,
      "rowLimit": 10000
     },
     "inputWidgets": {},
     "nuid": "1cab4c48-ecae-4bba-8623-581823c3fa8d",
     "showTitle": true,
     "title": "Gender Analysis: 1"
    }
   },
   "outputs": [
    {
     "output_type": "display_data",
     "data": {
      "text/html": [
       "<style scoped>\n",
       "  .table-result-container {\n",
       "    max-height: 300px;\n",
       "    overflow: auto;\n",
       "  }\n",
       "  table, th, td {\n",
       "    border: 1px solid black;\n",
       "    border-collapse: collapse;\n",
       "  }\n",
       "  th, td {\n",
       "    padding: 5px;\n",
       "  }\n",
       "  th {\n",
       "    text-align: left;\n",
       "  }\n",
       "</style><div class='table-result-container'><table class='table-result'><thead style='background-color: white'><tr><th>Discipline</th><th>Female</th><th>Male</th><th>Total</th><th>avg_female</th><th>avg_male</th></tr></thead><tbody><tr><td>3x3 Basketball</td><td>32</td><td>32</td><td>64</td><td>0.5</td><td>0.5</td></tr><tr><td>Archery</td><td>64</td><td>64</td><td>128</td><td>0.5</td><td>0.5</td></tr><tr><td>Artistic Gymnastics</td><td>98</td><td>98</td><td>196</td><td>0.5</td><td>0.5</td></tr><tr><td>Artistic Swimming</td><td>105</td><td>0</td><td>105</td><td>1.0</td><td>0.0</td></tr><tr><td>Athletics</td><td>969</td><td>1072</td><td>2041</td><td>0.4747672709456149</td><td>0.5252327290543851</td></tr><tr><td>Badminton</td><td>86</td><td>87</td><td>173</td><td>0.49710982658959535</td><td>0.5028901734104047</td></tr><tr><td>Baseball/Softball</td><td>90</td><td>144</td><td>234</td><td>0.38461538461538464</td><td>0.6153846153846154</td></tr><tr><td>Basketball</td><td>144</td><td>144</td><td>288</td><td>0.5</td><td>0.5</td></tr><tr><td>Beach Volleyball</td><td>48</td><td>48</td><td>96</td><td>0.5</td><td>0.5</td></tr><tr><td>Boxing</td><td>102</td><td>187</td><td>289</td><td>0.35294117647058826</td><td>0.6470588235294118</td></tr><tr><td>Canoe Slalom</td><td>41</td><td>41</td><td>82</td><td>0.5</td><td>0.5</td></tr><tr><td>Canoe Sprint</td><td>123</td><td>126</td><td>249</td><td>0.4939759036144578</td><td>0.5060240963855421</td></tr><tr><td>Cycling BMX Freestyle</td><td>10</td><td>9</td><td>19</td><td>0.5263157894736842</td><td>0.47368421052631576</td></tr><tr><td>Cycling BMX Racing</td><td>24</td><td>24</td><td>48</td><td>0.5</td><td>0.5</td></tr><tr><td>Cycling Mountain Bike</td><td>38</td><td>38</td><td>76</td><td>0.5</td><td>0.5</td></tr><tr><td>Cycling Road</td><td>70</td><td>131</td><td>201</td><td>0.3482587064676617</td><td>0.6517412935323383</td></tr><tr><td>Cycling Track</td><td>90</td><td>99</td><td>189</td><td>0.47619047619047616</td><td>0.5238095238095238</td></tr><tr><td>Diving</td><td>72</td><td>71</td><td>143</td><td>0.5034965034965035</td><td>0.4965034965034965</td></tr><tr><td>Equestrian</td><td>73</td><td>125</td><td>198</td><td>0.3686868686868687</td><td>0.6313131313131313</td></tr><tr><td>Fencing</td><td>107</td><td>108</td><td>215</td><td>0.49767441860465117</td><td>0.5023255813953489</td></tr><tr><td>Football</td><td>264</td><td>344</td><td>608</td><td>0.4342105263157895</td><td>0.5657894736842105</td></tr><tr><td>Golf</td><td>60</td><td>60</td><td>120</td><td>0.5</td><td>0.5</td></tr><tr><td>Handball</td><td>168</td><td>168</td><td>336</td><td>0.5</td><td>0.5</td></tr><tr><td>Hockey</td><td>192</td><td>192</td><td>384</td><td>0.5</td><td>0.5</td></tr><tr><td>Judo</td><td>192</td><td>201</td><td>393</td><td>0.48854961832061067</td><td>0.5114503816793893</td></tr><tr><td>Karate</td><td>40</td><td>42</td><td>82</td><td>0.4878048780487805</td><td>0.5121951219512195</td></tr><tr><td>Marathon Swimming</td><td>25</td><td>25</td><td>50</td><td>0.5</td><td>0.5</td></tr><tr><td>Modern Pentathlon</td><td>36</td><td>36</td><td>72</td><td>0.5</td><td>0.5</td></tr><tr><td>Rhythmic Gymnastics</td><td>96</td><td>0</td><td>96</td><td>1.0</td><td>0.0</td></tr><tr><td>Rowing</td><td>257</td><td>265</td><td>522</td><td>0.49233716475095785</td><td>0.5076628352490421</td></tr><tr><td>Rugby Sevens</td><td>146</td><td>151</td><td>297</td><td>0.49158249158249157</td><td>0.5084175084175084</td></tr><tr><td>Sailing</td><td>175</td><td>175</td><td>350</td><td>0.5</td><td>0.5</td></tr><tr><td>Shooting</td><td>178</td><td>178</td><td>356</td><td>0.5</td><td>0.5</td></tr><tr><td>Skateboarding</td><td>40</td><td>40</td><td>80</td><td>0.5</td><td>0.5</td></tr><tr><td>Sport Climbing</td><td>20</td><td>20</td><td>40</td><td>0.5</td><td>0.5</td></tr><tr><td>Surfing</td><td>20</td><td>20</td><td>40</td><td>0.5</td><td>0.5</td></tr><tr><td>Swimming</td><td>361</td><td>418</td><td>779</td><td>0.4634146341463415</td><td>0.5365853658536586</td></tr><tr><td>Table Tennis</td><td>86</td><td>86</td><td>172</td><td>0.5</td><td>0.5</td></tr><tr><td>Taekwondo</td><td>65</td><td>65</td><td>130</td><td>0.5</td><td>0.5</td></tr><tr><td>Tennis</td><td>94</td><td>97</td><td>191</td><td>0.49214659685863876</td><td>0.5078534031413613</td></tr><tr><td>Trampoline Gymnastics</td><td>16</td><td>16</td><td>32</td><td>0.5</td><td>0.5</td></tr><tr><td>Triathlon</td><td>55</td><td>55</td><td>110</td><td>0.5</td><td>0.5</td></tr><tr><td>Volleyball</td><td>144</td><td>144</td><td>288</td><td>0.5</td><td>0.5</td></tr><tr><td>Water Polo</td><td>122</td><td>146</td><td>268</td><td>0.4552238805970149</td><td>0.5447761194029851</td></tr><tr><td>Weightlifting</td><td>98</td><td>99</td><td>197</td><td>0.49746192893401014</td><td>0.5025380710659898</td></tr><tr><td>Wrestling</td><td>96</td><td>193</td><td>289</td><td>0.33217993079584773</td><td>0.6678200692041523</td></tr></tbody></table></div>"
      ]
     },
     "metadata": {
      "application/vnd.databricks.v1+output": {
       "addedWidgets": {},
       "aggData": [],
       "aggError": "",
       "aggOverflow": false,
       "aggSchema": [],
       "aggSeriesLimitReached": false,
       "aggType": "",
       "arguments": {},
       "columnCustomDisplayInfos": {},
       "data": [
        [
         "3x3 Basketball",
         32,
         32,
         64,
         0.5,
         0.5
        ],
        [
         "Archery",
         64,
         64,
         128,
         0.5,
         0.5
        ],
        [
         "Artistic Gymnastics",
         98,
         98,
         196,
         0.5,
         0.5
        ],
        [
         "Artistic Swimming",
         105,
         0,
         105,
         1.0,
         0.0
        ],
        [
         "Athletics",
         969,
         1072,
         2041,
         0.4747672709456149,
         0.5252327290543851
        ],
        [
         "Badminton",
         86,
         87,
         173,
         0.49710982658959535,
         0.5028901734104047
        ],
        [
         "Baseball/Softball",
         90,
         144,
         234,
         0.38461538461538464,
         0.6153846153846154
        ],
        [
         "Basketball",
         144,
         144,
         288,
         0.5,
         0.5
        ],
        [
         "Beach Volleyball",
         48,
         48,
         96,
         0.5,
         0.5
        ],
        [
         "Boxing",
         102,
         187,
         289,
         0.35294117647058826,
         0.6470588235294118
        ],
        [
         "Canoe Slalom",
         41,
         41,
         82,
         0.5,
         0.5
        ],
        [
         "Canoe Sprint",
         123,
         126,
         249,
         0.4939759036144578,
         0.5060240963855421
        ],
        [
         "Cycling BMX Freestyle",
         10,
         9,
         19,
         0.5263157894736842,
         0.47368421052631576
        ],
        [
         "Cycling BMX Racing",
         24,
         24,
         48,
         0.5,
         0.5
        ],
        [
         "Cycling Mountain Bike",
         38,
         38,
         76,
         0.5,
         0.5
        ],
        [
         "Cycling Road",
         70,
         131,
         201,
         0.3482587064676617,
         0.6517412935323383
        ],
        [
         "Cycling Track",
         90,
         99,
         189,
         0.47619047619047616,
         0.5238095238095238
        ],
        [
         "Diving",
         72,
         71,
         143,
         0.5034965034965035,
         0.4965034965034965
        ],
        [
         "Equestrian",
         73,
         125,
         198,
         0.3686868686868687,
         0.6313131313131313
        ],
        [
         "Fencing",
         107,
         108,
         215,
         0.49767441860465117,
         0.5023255813953489
        ],
        [
         "Football",
         264,
         344,
         608,
         0.4342105263157895,
         0.5657894736842105
        ],
        [
         "Golf",
         60,
         60,
         120,
         0.5,
         0.5
        ],
        [
         "Handball",
         168,
         168,
         336,
         0.5,
         0.5
        ],
        [
         "Hockey",
         192,
         192,
         384,
         0.5,
         0.5
        ],
        [
         "Judo",
         192,
         201,
         393,
         0.48854961832061067,
         0.5114503816793893
        ],
        [
         "Karate",
         40,
         42,
         82,
         0.4878048780487805,
         0.5121951219512195
        ],
        [
         "Marathon Swimming",
         25,
         25,
         50,
         0.5,
         0.5
        ],
        [
         "Modern Pentathlon",
         36,
         36,
         72,
         0.5,
         0.5
        ],
        [
         "Rhythmic Gymnastics",
         96,
         0,
         96,
         1.0,
         0.0
        ],
        [
         "Rowing",
         257,
         265,
         522,
         0.49233716475095785,
         0.5076628352490421
        ],
        [
         "Rugby Sevens",
         146,
         151,
         297,
         0.49158249158249157,
         0.5084175084175084
        ],
        [
         "Sailing",
         175,
         175,
         350,
         0.5,
         0.5
        ],
        [
         "Shooting",
         178,
         178,
         356,
         0.5,
         0.5
        ],
        [
         "Skateboarding",
         40,
         40,
         80,
         0.5,
         0.5
        ],
        [
         "Sport Climbing",
         20,
         20,
         40,
         0.5,
         0.5
        ],
        [
         "Surfing",
         20,
         20,
         40,
         0.5,
         0.5
        ],
        [
         "Swimming",
         361,
         418,
         779,
         0.4634146341463415,
         0.5365853658536586
        ],
        [
         "Table Tennis",
         86,
         86,
         172,
         0.5,
         0.5
        ],
        [
         "Taekwondo",
         65,
         65,
         130,
         0.5,
         0.5
        ],
        [
         "Tennis",
         94,
         97,
         191,
         0.49214659685863876,
         0.5078534031413613
        ],
        [
         "Trampoline Gymnastics",
         16,
         16,
         32,
         0.5,
         0.5
        ],
        [
         "Triathlon",
         55,
         55,
         110,
         0.5,
         0.5
        ],
        [
         "Volleyball",
         144,
         144,
         288,
         0.5,
         0.5
        ],
        [
         "Water Polo",
         122,
         146,
         268,
         0.4552238805970149,
         0.5447761194029851
        ],
        [
         "Weightlifting",
         98,
         99,
         197,
         0.49746192893401014,
         0.5025380710659898
        ],
        [
         "Wrestling",
         96,
         193,
         289,
         0.33217993079584773,
         0.6678200692041523
        ]
       ],
       "datasetInfos": [],
       "dbfsResultPath": null,
       "isJsonSchema": true,
       "metadata": {},
       "overflow": false,
       "plotOptions": {
        "customPlotOptions": {},
        "displayType": "table",
        "pivotAggregation": null,
        "pivotColumns": null,
        "xColumns": null,
        "yColumns": null
       },
       "removedWidgets": [],
       "schema": [
        {
         "metadata": "{}",
         "name": "Discipline",
         "type": "\"string\""
        },
        {
         "metadata": "{}",
         "name": "Female",
         "type": "\"integer\""
        },
        {
         "metadata": "{}",
         "name": "Male",
         "type": "\"integer\""
        },
        {
         "metadata": "{}",
         "name": "Total",
         "type": "\"integer\""
        },
        {
         "metadata": "{}",
         "name": "avg_female",
         "type": "\"double\""
        },
        {
         "metadata": "{}",
         "name": "avg_male",
         "type": "\"double\""
        }
       ],
       "type": "table"
      }
     },
     "output_type": "display_data"
    }
   ],
   "source": [
    "df_entriesgender = (spark.read.format(\"csv\")\n",
    "                    .options(header = \"true\", inferSchema =\"true\")\n",
    "                    .load(\"/mnt/tokyoolymic/raw-data/entriesgender.csv\")\n",
    "                    )\n",
    "                    \n",
    "# Calculate the average percentage of entries by gender for each discipline\n",
    "df_avg_entries_gender = (df_entriesgender\n",
    "                         .withColumn(\"avg_female\", sf.col(\"Female\")/sf.col(\"Total\"))\n",
    "                         .withColumn(\"avg_male\", sf.col(\"Male\")/sf.col(\"Total\"))\n",
    "                          )\n",
    "display(df_avg_entries_gender)"
   ]
  },
  {
   "cell_type": "code",
   "execution_count": 0,
   "metadata": {
    "application/vnd.databricks.v1+cell": {
     "cellMetadata": {
      "byteLimit": 2048000,
      "rowLimit": 10000
     },
     "inputWidgets": {},
     "nuid": "4e2a14af-875e-47a3-ad90-1982c2de133c",
     "showTitle": true,
     "title": "Team Analysis: 1"
    }
   },
   "outputs": [
    {
     "output_type": "display_data",
     "data": {
      "text/html": [
       "<style scoped>\n",
       "  .table-result-container {\n",
       "    max-height: 300px;\n",
       "    overflow: auto;\n",
       "  }\n",
       "  table, th, td {\n",
       "    border: 1px solid black;\n",
       "    border-collapse: collapse;\n",
       "  }\n",
       "  th, td {\n",
       "    padding: 5px;\n",
       "  }\n",
       "  th {\n",
       "    text-align: left;\n",
       "  }\n",
       "</style><div class='table-result-container'><table class='table-result'><thead style='background-color: white'><tr><th>Discipline</th><th>Teams_Participation_Count</th><th>DisciplineRanking_TeamsCount</th></tr></thead><tbody><tr><td>Beach Volleyball</td><td>48</td><td>1</td></tr><tr><td>Table Tennis</td><td>37</td><td>2</td></tr><tr><td>Athletics</td><td>33</td><td>3</td></tr><tr><td>Archery</td><td>31</td><td>4</td></tr><tr><td>Swimming</td><td>30</td><td>5</td></tr><tr><td>Football</td><td>24</td><td>6</td></tr><tr><td>Cycling Track</td><td>23</td><td>7</td></tr><tr><td>Artistic Swimming</td><td>22</td><td>8</td></tr><tr><td>Basketball</td><td>18</td><td>9</td></tr><tr><td>Handball</td><td>18</td><td>9</td></tr><tr><td>Triathlon</td><td>18</td><td>9</td></tr><tr><td>Volleyball</td><td>18</td><td>9</td></tr><tr><td>Fencing</td><td>18</td><td>9</td></tr><tr><td>Artistic Gymnastics</td><td>17</td><td>14</td></tr><tr><td>Rugby Sevens</td><td>16</td><td>15</td></tr><tr><td>Water Polo</td><td>16</td><td>15</td></tr><tr><td>Rhythmic Gymnastics</td><td>14</td><td>17</td></tr><tr><td>Hockey</td><td>14</td><td>17</td></tr><tr><td>3x3 Basketball</td><td>13</td><td>19</td></tr><tr><td>Baseball/Softball</td><td>9</td><td>20</td></tr></tbody></table></div>"
      ]
     },
     "metadata": {
      "application/vnd.databricks.v1+output": {
       "addedWidgets": {},
       "aggData": [],
       "aggError": "",
       "aggOverflow": false,
       "aggSchema": [],
       "aggSeriesLimitReached": false,
       "aggType": "",
       "arguments": {},
       "columnCustomDisplayInfos": {},
       "data": [
        [
         "Beach Volleyball",
         48,
         1
        ],
        [
         "Table Tennis",
         37,
         2
        ],
        [
         "Athletics",
         33,
         3
        ],
        [
         "Archery",
         31,
         4
        ],
        [
         "Swimming",
         30,
         5
        ],
        [
         "Football",
         24,
         6
        ],
        [
         "Cycling Track",
         23,
         7
        ],
        [
         "Artistic Swimming",
         22,
         8
        ],
        [
         "Basketball",
         18,
         9
        ],
        [
         "Handball",
         18,
         9
        ],
        [
         "Triathlon",
         18,
         9
        ],
        [
         "Volleyball",
         18,
         9
        ],
        [
         "Fencing",
         18,
         9
        ],
        [
         "Artistic Gymnastics",
         17,
         14
        ],
        [
         "Rugby Sevens",
         16,
         15
        ],
        [
         "Water Polo",
         16,
         15
        ],
        [
         "Rhythmic Gymnastics",
         14,
         17
        ],
        [
         "Hockey",
         14,
         17
        ],
        [
         "3x3 Basketball",
         13,
         19
        ],
        [
         "Baseball/Softball",
         9,
         20
        ]
       ],
       "datasetInfos": [],
       "dbfsResultPath": null,
       "isJsonSchema": true,
       "metadata": {},
       "overflow": false,
       "plotOptions": {
        "customPlotOptions": {},
        "displayType": "table",
        "pivotAggregation": null,
        "pivotColumns": null,
        "xColumns": null,
        "yColumns": null
       },
       "removedWidgets": [],
       "schema": [
        {
         "metadata": "{}",
         "name": "Discipline",
         "type": "\"string\""
        },
        {
         "metadata": "{}",
         "name": "Teams_Participation_Count",
         "type": "\"long\""
        },
        {
         "metadata": "{}",
         "name": "DisciplineRanking_TeamsCount",
         "type": "\"integer\""
        }
       ],
       "type": "table"
      }
     },
     "output_type": "display_data"
    }
   ],
   "source": [
    "df_teams = (spark.read.format(\"csv\")\n",
    "               .options(header = \"true\", inferSchema =\"true\")\n",
    "               .load(\"/mnt/tokyoolymic/raw-data/teams.csv\")\n",
    "               )\n",
    "\n",
    "# highest No of teams participated in which Event.\n",
    "df_teams_discipline = (df_teams\n",
    "                       .dropDuplicates()\n",
    "                       .groupBy(\"Discipline\")\n",
    "                       .agg(sf.countDistinct(\"TeamName\").alias(\"Teams_Participation_Count\"))\n",
    "                       .withColumn(\"DisciplineRanking_TeamsCount\", sf.rank().over(Window.orderBy(sf.col(\"Teams_Participation_Count\").desc())))\n",
    "                       )\n",
    "\n",
    "display(df_teams_discipline)"
   ]
  },
  {
   "cell_type": "code",
   "execution_count": 0,
   "metadata": {
    "application/vnd.databricks.v1+cell": {
     "cellMetadata": {
      "byteLimit": 2048000,
      "rowLimit": 10000
     },
     "inputWidgets": {},
     "nuid": "4192393c-f96c-4f2d-b53d-fc11f252e274",
     "showTitle": false,
     "title": ""
    }
   },
   "outputs": [
    {
     "output_type": "display_data",
     "data": {
      "image/png": "[encoded data removed]"
     },
     "metadata": {
      "application/vnd.databricks.v1+output": {
       "addedWidgets": {},
       "arguments": {},
       "data": "data:image/png;base64,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\n",
       "datasetInfos": [],
       "metadata": {},
       "removedWidgets": [],
       "type": "image"
      }
     },
     "output_type": "display_data"
    }
   ],
   "source": [
    "# Visualization of first 5 disciplies with more team partcipation\n",
    "df_five_df_teams_discipline = (df_teams_discipline\n",
    "                               .where(sf.col(\"DisciplineRanking_TeamsCount\").isin(1,2,3,4,5))\n",
    "                               )\n",
    "\n",
    "df_teams_discipline_pd = df_five_df_teams_discipline.toPandas()\n",
    "\n",
    "plt.figure(figsize=(10,6))\n",
    "sns.barplot(x = \"Discipline\", y = \"Teams_Participation_Count\", data = df_teams_discipline_pd)\n",
    "plt.title(\"Top 5 Disciplines with the Highest Number of Team Participations in the Tokyo Olympics\")\n",
    "plt.show()\n",
    "\n",
    "# More teams partcipated in \"Beach Volleyball\" at Tokyo Olympics."
   ]
  },
  {
   "cell_type": "code",
   "execution_count": 0,
   "metadata": {
    "application/vnd.databricks.v1+cell": {
     "cellMetadata": {
      "byteLimit": 2048000,
      "rowLimit": 10000
     },
     "inputWidgets": {},
     "nuid": "b38ecfa8-a29a-4e3e-9ed2-8db7f2150e15",
     "showTitle": false,
     "title": ""
    }
   },
   "outputs": [],
   "source": [
    "df_athletes_countries.repartition(1).write.mode(\"overwrite\").option(\"header\", \"true\").format(\"csv\").save(\"/mnt/tokyoolymic/transformed-data/athletes_countries\")"
   ]
  },
  {
   "cell_type": "code",
   "execution_count": 0,
   "metadata": {
    "application/vnd.databricks.v1+cell": {
     "cellMetadata": {
      "byteLimit": 2048000,
      "rowLimit": 10000
     },
     "inputWidgets": {},
     "nuid": "1266124e-2031-48af-a176-5a05154b4f9a",
     "showTitle": false,
     "title": ""
    }
   },
   "outputs": [],
   "source": [
    "df_athletes_discipline.repartition(1).write.mode(\"overwrite\").option(\"header\", \"true\").format(\"csv\").save(\"/mnt/tokyoolymic/transformed-data/athletes_discipline\")"
   ]
  },
  {
   "cell_type": "code",
   "execution_count": 0,
   "metadata": {
    "application/vnd.databricks.v1+cell": {
     "cellMetadata": {
      "byteLimit": 2048000,
      "rowLimit": 10000
     },
     "inputWidgets": {},
     "nuid": "fae1420f-b269-4340-ad3d-96dac03a0dcd",
     "showTitle": false,
     "title": ""
    }
   },
   "outputs": [],
   "source": [
    "df_country_discipline.repartition(1).write.mode(\"overwrite\").option(\"header\", \"true\").format(\"csv\").save(\"/mnt/tokyoolymic/transformed-data/country_discipline\")"
   ]
  },
  {
   "cell_type": "code",
   "execution_count": 0,
   "metadata": {
    "application/vnd.databricks.v1+cell": {
     "cellMetadata": {
      "byteLimit": 2048000,
      "rowLimit": 10000
     },
     "inputWidgets": {},
     "nuid": "514f8ca0-d86c-4fa9-9626-c7d62e276d5c",
     "showTitle": false,
     "title": ""
    }
   },
   "outputs": [],
   "source": [
    "df_coaches_countries.repartition(1).write.mode(\"overwrite\").option(\"header\", \"true\").format(\"csv\").save(\"/mnt/tokyoolymic/transformed-data/coaches_countries\")"
   ]
  },
  {
   "cell_type": "code",
   "execution_count": 0,
   "metadata": {
    "application/vnd.databricks.v1+cell": {
     "cellMetadata": {
      "byteLimit": 2048000,
      "rowLimit": 10000
     },
     "inputWidgets": {},
     "nuid": "b60346df-df2d-4fd9-91b4-2f3c259f09c5",
     "showTitle": false,
     "title": ""
    }
   },
   "outputs": [],
   "source": [
    "df_coaches_discipline.repartition(1).write.mode(\"overwrite\").option(\"header\", \"true\").format(\"csv\").save(\"/mnt/tokyoolymic/transformed-data/coaches_discipline\")"
   ]
  },
  {
   "cell_type": "code",
   "execution_count": 0,
   "metadata": {
    "application/vnd.databricks.v1+cell": {
     "cellMetadata": {
      "byteLimit": 2048000,
      "rowLimit": 10000
     },
     "inputWidgets": {},
     "nuid": "8bdfd67d-24ef-4c34-a9c2-0f3093b03dab",
     "showTitle": false,
     "title": ""
    }
   },
   "outputs": [],
   "source": [
    "df_medals.repartition(1).write.mode(\"overwrite\").option(\"header\", \"true\").format(\"csv\").save(\"/mnt/tokyoolymic/transformed-data/medals\")"
   ]
  },
  {
   "cell_type": "code",
   "execution_count": 0,
   "metadata": {
    "application/vnd.databricks.v1+cell": {
     "cellMetadata": {
      "byteLimit": 2048000,
      "rowLimit": 10000
     },
     "inputWidgets": {},
     "nuid": "1c80269e-a072-4303-b0d7-90445ad8f46f",
     "showTitle": false,
     "title": ""
    }
   },
   "outputs": [],
   "source": [
    "df_avg_entries_gender.repartition(1).write.mode(\"overwrite\").option(\"header\", \"true\").format(\"csv\").save(\"/mnt/tokyoolymic/transformed-data/avg_entries_gender\")"
   ]
  },
  {
   "cell_type": "code",
   "execution_count": 0,
   "metadata": {
    "application/vnd.databricks.v1+cell": {
     "cellMetadata": {
      "byteLimit": 2048000,
      "rowLimit": 10000
     },
     "inputWidgets": {},
     "nuid": "49b3efbc-05c4-4735-bd0e-52dd2dbb8953",
     "showTitle": false,
     "title": ""
    }
   },
   "outputs": [],
   "source": [
    "df_teams_discipline.repartition(1).write.mode(\"overwrite\").option(\"header\", \"true\").format(\"csv\").save(\"/mnt/tokyoolymic/transformed-data/teams_discipline\")"
   ]
  },
  {
   "cell_type": "code",
   "execution_count": 0,
   "metadata": {
    "application/vnd.databricks.v1+cell": {
     "cellMetadata": {
      "byteLimit": 2048000,
      "rowLimit": 10000
     },
     "inputWidgets": {},
     "nuid": "c2054201-1c71-44b2-9c1b-3de641d2514b",
     "showTitle": false,
     "title": ""
    }
   },
   "outputs": [],
   "source": []
  }
 ],
 "metadata": {
  "application/vnd.databricks.v1+notebook": {
   "dashboards": [],
   "language": "python",
   "notebookMetadata": {
    "mostRecentlyExecutedCommandWithImplicitDF": {
     "commandId": 2231563219749314,
     "dataframes": [
      "_sqldf"
     ]
    },
    "pythonIndentUnit": 4
   },
   "notebookName": "Tokyo Olympics Data Transformation",
   "widgets": {}
  }
 },
 "nbformat": 4,
 "nbformat_minor": 0
}
